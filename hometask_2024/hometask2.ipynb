{
  "cells": [
    {
      "cell_type": "markdown",
      "metadata": {
        "id": "R746J65_6nzk"
      },
      "source": [
        "# **Hometask 2**\n",
        "1. For your dataset get 1000+ descriptors from 2+ sources: RDKit, Pubchem, Mordred, etc.\n",
        "2. Select features from downloaded based on at least 2 selection techniques."
      ]
    },
    {
      "cell_type": "markdown",
      "metadata": {
        "id": "BJe1ILEp6cV4"
      },
      "source": [
        "loading libraries"
      ]
    },
    {
      "cell_type": "code",
      "execution_count": 1,
      "metadata": {
        "colab": {
          "base_uri": "https://localhost:8080/"
        },
        "id": "NBjLE4MP6QrD",
        "outputId": "8f848182-217d-43a6-9c0e-f2e939ce4cea"
      },
      "outputs": [
        {
          "name": "stdout",
          "output_type": "stream",
          "text": [
            "Collecting mordred\n",
            "  Downloading mordred-1.2.0.tar.gz (128 kB)\n",
            "\u001b[2K     \u001b[90m━━━━━━━━━━━━━━━━━━━━━━━━━━━━━━━━━━━━━━━━\u001b[0m \u001b[32m128.8/128.8 kB\u001b[0m \u001b[31m3.3 MB/s\u001b[0m eta \u001b[36m0:00:00\u001b[0m\n",
            "\u001b[?25h  Preparing metadata (setup.py) ... \u001b[?25l\u001b[?25hdone\n",
            "Requirement already satisfied: six==1.* in /usr/local/lib/python3.10/dist-packages (from mordred) (1.16.0)\n",
            "Requirement already satisfied: numpy==1.* in /usr/local/lib/python3.10/dist-packages (from mordred) (1.25.2)\n",
            "Collecting networkx==2.* (from mordred)\n",
            "  Downloading networkx-2.8.8-py3-none-any.whl (2.0 MB)\n",
            "\u001b[2K     \u001b[90m━━━━━━━━━━━━━━━━━━━━━━━━━━━━━━━━━━━━━━━━\u001b[0m \u001b[32m2.0/2.0 MB\u001b[0m \u001b[31m13.5 MB/s\u001b[0m eta \u001b[36m0:00:00\u001b[0m\n",
            "\u001b[?25hBuilding wheels for collected packages: mordred\n",
            "  Building wheel for mordred (setup.py) ... \u001b[?25l\u001b[?25hdone\n",
            "  Created wheel for mordred: filename=mordred-1.2.0-py3-none-any.whl size=176720 sha256=f3ad2ddd33a095c23560afcb09769102e19f71df06bf0de268b0b0b53677512e\n",
            "  Stored in directory: /root/.cache/pip/wheels/a7/4f/b8/d4c6591f6ac944aaced7865b349477695f662388ad958743c7\n",
            "Successfully built mordred\n",
            "Installing collected packages: networkx, mordred\n",
            "  Attempting uninstall: networkx\n",
            "    Found existing installation: networkx 3.2.1\n",
            "    Uninstalling networkx-3.2.1:\n",
            "      Successfully uninstalled networkx-3.2.1\n",
            "\u001b[31mERROR: pip's dependency resolver does not currently take into account all the packages that are installed. This behaviour is the source of the following dependency conflicts.\n",
            "torch 2.2.1+cu121 requires nvidia-cublas-cu12==12.1.3.1; platform_system == \"Linux\" and platform_machine == \"x86_64\", which is not installed.\n",
            "torch 2.2.1+cu121 requires nvidia-cuda-cupti-cu12==12.1.105; platform_system == \"Linux\" and platform_machine == \"x86_64\", which is not installed.\n",
            "torch 2.2.1+cu121 requires nvidia-cuda-nvrtc-cu12==12.1.105; platform_system == \"Linux\" and platform_machine == \"x86_64\", which is not installed.\n",
            "torch 2.2.1+cu121 requires nvidia-cuda-runtime-cu12==12.1.105; platform_system == \"Linux\" and platform_machine == \"x86_64\", which is not installed.\n",
            "torch 2.2.1+cu121 requires nvidia-cudnn-cu12==8.9.2.26; platform_system == \"Linux\" and platform_machine == \"x86_64\", which is not installed.\n",
            "torch 2.2.1+cu121 requires nvidia-cufft-cu12==11.0.2.54; platform_system == \"Linux\" and platform_machine == \"x86_64\", which is not installed.\n",
            "torch 2.2.1+cu121 requires nvidia-curand-cu12==10.3.2.106; platform_system == \"Linux\" and platform_machine == \"x86_64\", which is not installed.\n",
            "torch 2.2.1+cu121 requires nvidia-cusolver-cu12==11.4.5.107; platform_system == \"Linux\" and platform_machine == \"x86_64\", which is not installed.\n",
            "torch 2.2.1+cu121 requires nvidia-cusparse-cu12==12.1.0.106; platform_system == \"Linux\" and platform_machine == \"x86_64\", which is not installed.\n",
            "torch 2.2.1+cu121 requires nvidia-nccl-cu12==2.19.3; platform_system == \"Linux\" and platform_machine == \"x86_64\", which is not installed.\n",
            "torch 2.2.1+cu121 requires nvidia-nvtx-cu12==12.1.105; platform_system == \"Linux\" and platform_machine == \"x86_64\", which is not installed.\u001b[0m\u001b[31m\n",
            "\u001b[0mSuccessfully installed mordred-1.2.0 networkx-2.8.8\n"
          ]
        }
      ],
      "source": [
        "!pip install pandas>None\n",
        "!pip install rdkit>None\n",
        "!pip install pubchempy>None\n",
        "!pip install mordred"
      ]
    },
    {
      "cell_type": "code",
      "execution_count": 2,
      "metadata": {
        "id": "zcSwNw756XzB"
      },
      "outputs": [],
      "source": [
        "import pandas as pd\n",
        "import numpy as np\n",
        "from rdkit import Chem\n",
        "from rdkit import Chem\n",
        "from rdkit.Chem import Descriptors\n",
        "from rdkit.Chem import rdMolDescriptors\n",
        "from mordred import Calculator, descriptors"
      ]
    },
    {
      "cell_type": "code",
      "execution_count": 3,
      "metadata": {
        "id": "cVIICqv7I2MK"
      },
      "outputs": [],
      "source": [
        "from sklearn.feature_selection import VarianceThreshold"
      ]
    },
    {
      "cell_type": "code",
      "execution_count": 4,
      "metadata": {
        "id": "vZmIc0Cs7Aet"
      },
      "outputs": [],
      "source": [
        "from mordred import descriptors"
      ]
    },
    {
      "cell_type": "code",
      "execution_count": 5,
      "metadata": {
        "id": "TKr44VnA6gj-"
      },
      "outputs": [],
      "source": [
        "df = pd.read_csv('/content/my_data.csv')"
      ]
    },
    {
      "cell_type": "code",
      "execution_count": 6,
      "metadata": {
        "colab": {
          "base_uri": "https://localhost:8080/"
        },
        "id": "nL2y6G9U6kYz",
        "outputId": "0e5bb2df-1fe8-4d52-fe54-b4d7d8be941a"
      },
      "outputs": [
        {
          "name": "stdout",
          "output_type": "stream",
          "text": [
            "<class 'pandas.core.frame.DataFrame'>\n",
            "RangeIndex: 20000 entries, 0 to 19999\n",
            "Data columns (total 17 columns):\n",
            " #   Column  Non-Null Count  Dtype  \n",
            "---  ------  --------------  -----  \n",
            " 0   mol_id  20000 non-null  object \n",
            " 1   smiles  20000 non-null  object \n",
            " 2   A       20000 non-null  float64\n",
            " 3   B       20000 non-null  float64\n",
            " 4   C       20000 non-null  float64\n",
            " 5   mu      20000 non-null  float64\n",
            " 6   alpha   20000 non-null  float64\n",
            " 7   homo    20000 non-null  float64\n",
            " 8   lumo    20000 non-null  float64\n",
            " 9   gap     20000 non-null  float64\n",
            " 10  r2      20000 non-null  float64\n",
            " 11  zpve    20000 non-null  float64\n",
            " 12  u0      20000 non-null  float64\n",
            " 13  u298    20000 non-null  float64\n",
            " 14  h298    20000 non-null  float64\n",
            " 15  g298    20000 non-null  float64\n",
            " 16  cv      20000 non-null  float64\n",
            "dtypes: float64(15), object(2)\n",
            "memory usage: 2.6+ MB\n"
          ]
        }
      ],
      "source": [
        "df.info()"
      ]
    },
    {
      "cell_type": "markdown",
      "metadata": {
        "id": "5muda1nR6wrq"
      },
      "source": [
        "# 1.1 Loading Rdkit and mordred descriptors"
      ]
    },
    {
      "cell_type": "code",
      "execution_count": 7,
      "metadata": {
        "id": "Jhvbj3oZ6uis"
      },
      "outputs": [],
      "source": [
        "# Getting a list of available handles\n",
        "descriptor_names = list(rdMolDescriptors.Properties.GetAvailableProperties())\n",
        "get_descriptors = rdMolDescriptors.Properties(descriptor_names)\n",
        "num_descriptors = len(descriptor_names)\n",
        "\n",
        "# Initializing an empty matrix for descriptors\n",
        "descriptors_set = np.empty((0, num_descriptors), float)\n",
        "\n",
        "# Calculation of descriptors\n",
        "for _, row in df.iterrows():\n",
        "    smiles = row['smiles']\n",
        "    molecule = Chem.MolFromSmiles(smiles)\n",
        "\n",
        "    if molecule is not None:\n",
        "        descriptors = np.array(get_descriptors.ComputeProperties(molecule)).reshape((-1, num_descriptors))\n",
        "        descriptors_set = np.append(descriptors_set, descriptors, axis=0)\n",
        "\n",
        "# Creating a DataFrame with Handles\n",
        "df_descriptors = pd.DataFrame(descriptors_set, columns=descriptor_names)\n",
        "\n",
        "# Merging an existing dataset with new descriptors\n",
        "df_rdkit = pd.concat([df, df_descriptors], axis=1)"
      ]
    },
    {
      "cell_type": "code",
      "execution_count": 8,
      "metadata": {
        "colab": {
          "base_uri": "https://localhost:8080/"
        },
        "id": "Fi7HWLMs60mO",
        "outputId": "004296c7-c7bb-4b3f-997b-9e14986df28f"
      },
      "outputs": [
        {
          "name": "stdout",
          "output_type": "stream",
          "text": [
            "<class 'pandas.core.frame.DataFrame'>\n",
            "RangeIndex: 20000 entries, 0 to 19999\n",
            "Data columns (total 60 columns):\n",
            " #   Column                           Non-Null Count  Dtype  \n",
            "---  ------                           --------------  -----  \n",
            " 0   mol_id                           20000 non-null  object \n",
            " 1   smiles                           20000 non-null  object \n",
            " 2   A                                20000 non-null  float64\n",
            " 3   B                                20000 non-null  float64\n",
            " 4   C                                20000 non-null  float64\n",
            " 5   mu                               20000 non-null  float64\n",
            " 6   alpha                            20000 non-null  float64\n",
            " 7   homo                             20000 non-null  float64\n",
            " 8   lumo                             20000 non-null  float64\n",
            " 9   gap                              20000 non-null  float64\n",
            " 10  r2                               20000 non-null  float64\n",
            " 11  zpve                             20000 non-null  float64\n",
            " 12  u0                               20000 non-null  float64\n",
            " 13  u298                             20000 non-null  float64\n",
            " 14  h298                             20000 non-null  float64\n",
            " 15  g298                             20000 non-null  float64\n",
            " 16  cv                               20000 non-null  float64\n",
            " 17  exactmw                          20000 non-null  float64\n",
            " 18  amw                              20000 non-null  float64\n",
            " 19  lipinskiHBA                      20000 non-null  float64\n",
            " 20  lipinskiHBD                      20000 non-null  float64\n",
            " 21  NumRotatableBonds                20000 non-null  float64\n",
            " 22  NumHBD                           20000 non-null  float64\n",
            " 23  NumHBA                           20000 non-null  float64\n",
            " 24  NumHeavyAtoms                    20000 non-null  float64\n",
            " 25  NumAtoms                         20000 non-null  float64\n",
            " 26  NumHeteroatoms                   20000 non-null  float64\n",
            " 27  NumAmideBonds                    20000 non-null  float64\n",
            " 28  FractionCSP3                     20000 non-null  float64\n",
            " 29  NumRings                         20000 non-null  float64\n",
            " 30  NumAromaticRings                 20000 non-null  float64\n",
            " 31  NumAliphaticRings                20000 non-null  float64\n",
            " 32  NumSaturatedRings                20000 non-null  float64\n",
            " 33  NumHeterocycles                  20000 non-null  float64\n",
            " 34  NumAromaticHeterocycles          20000 non-null  float64\n",
            " 35  NumSaturatedHeterocycles         20000 non-null  float64\n",
            " 36  NumAliphaticHeterocycles         20000 non-null  float64\n",
            " 37  NumSpiroAtoms                    20000 non-null  float64\n",
            " 38  NumBridgeheadAtoms               20000 non-null  float64\n",
            " 39  NumAtomStereoCenters             20000 non-null  float64\n",
            " 40  NumUnspecifiedAtomStereoCenters  20000 non-null  float64\n",
            " 41  labuteASA                        20000 non-null  float64\n",
            " 42  tpsa                             20000 non-null  float64\n",
            " 43  CrippenClogP                     20000 non-null  float64\n",
            " 44  CrippenMR                        20000 non-null  float64\n",
            " 45  chi0v                            20000 non-null  float64\n",
            " 46  chi1v                            20000 non-null  float64\n",
            " 47  chi2v                            20000 non-null  float64\n",
            " 48  chi3v                            20000 non-null  float64\n",
            " 49  chi4v                            20000 non-null  float64\n",
            " 50  chi0n                            20000 non-null  float64\n",
            " 51  chi1n                            20000 non-null  float64\n",
            " 52  chi2n                            20000 non-null  float64\n",
            " 53  chi3n                            20000 non-null  float64\n",
            " 54  chi4n                            20000 non-null  float64\n",
            " 55  hallKierAlpha                    20000 non-null  float64\n",
            " 56  kappa1                           20000 non-null  float64\n",
            " 57  kappa2                           20000 non-null  float64\n",
            " 58  kappa3                           20000 non-null  float64\n",
            " 59  Phi                              20000 non-null  float64\n",
            "dtypes: float64(58), object(2)\n",
            "memory usage: 9.2+ MB\n"
          ]
        }
      ],
      "source": [
        "# New descriptors \n",
        "df = df_rdkit\n",
        "df.info()"
      ]
    },
    {
      "cell_type": "markdown",
      "metadata": {
        "id": "Jrp7nlTLBb9S"
      },
      "source": [
        "There are still less than 1000 descriptors needed in the task, so we will get more descriptors using Mordred"
      ]
    },
    {
      "cell_type": "markdown",
      "metadata": {
        "id": "0FgkJgoQ65Jj"
      },
      "source": [
        "# 1.2 Descriptors from Mordred"
      ]
    },
    {
      "cell_type": "code",
      "execution_count": null,
      "metadata": {},
      "outputs": [],
      "source": [
        "from mordred import descriptors"
      ]
    },
    {
      "cell_type": "code",
      "execution_count": 9,
      "metadata": {
        "colab": {
          "base_uri": "https://localhost:8080/"
        },
        "id": "UsbjjtN26-Sd",
        "outputId": "485efa99-77a1-4236-bf86-de3982c4d616"
      },
      "outputs": [
        {
          "name": "stderr",
          "output_type": "stream",
          "text": [
            "100%|██████████| 20000/20000 [31:09<00:00, 10.70it/s]\n"
          ]
        }
      ],
      "source": [
        "# Creating a calculator using all the descriptors from Mordred\n",
        "calc = Calculator(descriptors)\n",
        "\n",
        "# List generator to calculate descriptors for each molecule\n",
        "molecules = [Chem.MolFromSmiles(smiles) for smiles in df['smiles']]\n",
        "\n",
        "# Merging the original DataFrame with handles\n",
        "df_with_descriptors = calc.pandas(molecules)"
      ]
    },
    {
      "cell_type": "code",
      "execution_count": 10,
      "metadata": {
        "id": "hszLIcwN7EYQ"
      },
      "outputs": [],
      "source": [
        "# Connect with our smiles dataset\n",
        "merged_df = pd.concat([df, df_with_descriptors], axis=1)"
      ]
    },
    {
      "cell_type": "code",
      "execution_count": 11,
      "metadata": {
        "colab": {
          "base_uri": "https://localhost:8080/"
        },
        "id": "fdqX2qRK7GuD",
        "outputId": "9efe6771-a80f-4d3f-cf7e-ad5c78e0f649"
      },
      "outputs": [
        {
          "name": "stdout",
          "output_type": "stream",
          "text": [
            "       mol_id            smiles        A        B        C      mu  alpha  \\\n",
            "0   gdb_50579    O=CC1CCC2OC2C1  3.61423  1.09149  0.93260  2.0905  75.54   \n",
            "1  gdb_108157  COC12CC=C3CC1C23  3.33497  1.50547  1.26311  1.5224  82.20   \n",
            "2    gdb_1880      OC1CCC(=O)C1  5.59112  1.96604  1.53851  2.2377  56.85   \n",
            "3   gdb_34264  N#CC12NC3CNC1C23  4.19762  1.34307  1.21397  5.2940  74.13   \n",
            "4   gdb_22038  CC(=NO)CC(C)(C)C  2.79330  0.93080  0.84919  0.5406  88.74   \n",
            "\n",
            "     homo    lumo     gap  ...      SRW10     TSRW10          MW       AMW  \\\n",
            "0 -0.2491 -0.0233  0.2258  ...   9.206433  58.472343  126.068080  6.635162   \n",
            "1 -0.2118 -0.0292  0.1826  ...  10.344738  64.308792  122.073165  6.424903   \n",
            "2 -0.2381 -0.0172  0.2209  ...   8.206584  47.382536  100.052429  6.670162   \n",
            "3 -0.2286  0.0082  0.2368  ...  10.394610  64.379700  121.063997  7.566500   \n",
            "4 -0.2380  0.0127  0.2507  ...   8.498418  36.964640  129.115364  5.379807   \n",
            "\n",
            "   WPath  WPol  Zagreb1  Zagreb2  mZagreb1  mZagreb2  \n",
            "0     85     9     48.0     57.0  2.583333  2.027778  \n",
            "1     75     8     60.0     82.0  2.395833  1.888889  \n",
            "2     41     4     32.0     34.0  2.972222  1.583333  \n",
            "3     77     7     60.0     82.0  2.395833  1.888889  \n",
            "4     94     7     38.0     37.0  5.673611  2.041667  \n",
            "\n",
            "[5 rows x 1886 columns]\n"
          ]
        }
      ],
      "source": [
        "df = merged_df # All data\n",
        "\n",
        "# Checking the result\n",
        "print(merged_df.head())"
      ]
    },
    {
      "cell_type": "code",
      "execution_count": 12,
      "metadata": {
        "colab": {
          "base_uri": "https://localhost:8080/"
        },
        "id": "GyF5jOkv7M9s",
        "outputId": "aa316345-4434-40af-91ad-0d797d318ff0"
      },
      "outputs": [
        {
          "name": "stdout",
          "output_type": "stream",
          "text": [
            "<class 'pandas.core.frame.DataFrame'>\n",
            "RangeIndex: 20000 entries, 0 to 19999\n",
            "Columns: 1886 entries, mol_id to mZagreb2\n",
            "dtypes: bool(2), float64(852), int64(323), object(709)\n",
            "memory usage: 287.5+ MB\n"
          ]
        }
      ],
      "source": [
        "df.info()"
      ]
    },
    {
      "cell_type": "markdown",
      "metadata": {
        "id": "cmdNbgPi7iYQ"
      },
      "source": [
        "As you can see in our dataset there are 20K rows and 18K columns"
      ]
    },
    {
      "cell_type": "markdown",
      "metadata": {
        "id": "kF51rFYvB_iD"
      },
      "source": [
        "You can delete mol id or Smiles, so this data is just labels of our connections, I want to leave Smiles"
      ]
    },
    {
      "cell_type": "code",
      "execution_count": 13,
      "metadata": {
        "id": "rLD-_c4vCObq"
      },
      "outputs": [],
      "source": [
        "df.drop(columns=['mol_id'], inplace=True)"
      ]
    },
    {
      "cell_type": "code",
      "execution_count": 14,
      "metadata": {
        "id": "MmbIBkkz7Pxe"
      },
      "outputs": [],
      "source": [
        "df.to_csv('data_morded', encoding='utf-8')"
      ]
    },
    {
      "cell_type": "code",
      "execution_count": 15,
      "metadata": {
        "id": "HPtQy2yuJqNN"
      },
      "outputs": [],
      "source": [
        "# The file is too big and colab doesn’t load it as one file\n",
        "# So I'll split it into parts and download it in parts\n",
        "num_parts = 5\n",
        "total_rows = len(df)\n",
        "chunk_size = total_rows // num_parts\n",
        "\n",
        "for i in range(num_parts):\n",
        "    start_idx = i * chunk_size\n",
        "    end_idx = start_idx + chunk_size\n",
        "    if i == num_parts - 1:  # For the last chunk, include remaining rows\n",
        "        end_idx = total_rows\n",
        "    df_part = df.iloc[start_idx:end_idx]\n",
        "    df_part.to_csv(f'data_mordred_{i+1}.csv', encoding='utf-8', index=False)"
      ]
    },
    {
      "cell_type": "markdown",
      "metadata": {
        "id": "LW6C5GwT7YZa"
      },
      "source": [
        "# 2. Descriptors were selected using Pearson collation and feature variance filtering method"
      ]
    },
    {
      "cell_type": "markdown",
      "metadata": {},
      "source": [
        "If a descriptor has a variance equal to zero, then it does not introduce new information about the object and is redundant, so next we will check whether there are such signs and whether they can be removed"
      ]
    },
    {
      "cell_type": "code",
      "execution_count": 16,
      "metadata": {
        "colab": {
          "base_uri": "https://localhost:8080/",
          "height": 444
        },
        "id": "H8rgGjW1_XLX",
        "outputId": "22d69e16-c1a4-41ea-ad6d-44b388a5263b"
      },
      "outputs": [
        {
          "data": {
            "application/vnd.google.colaboratory.intrinsic+json": {
              "type": "dataframe",
              "variable_name": "df"
            },
            "text/html": [
              "\n",
              "  <div id=\"df-c7774680-7fe2-4308-bf20-c70d2a63d6c1\" class=\"colab-df-container\">\n",
              "    <div>\n",
              "<style scoped>\n",
              "    .dataframe tbody tr th:only-of-type {\n",
              "        vertical-align: middle;\n",
              "    }\n",
              "\n",
              "    .dataframe tbody tr th {\n",
              "        vertical-align: top;\n",
              "    }\n",
              "\n",
              "    .dataframe thead th {\n",
              "        text-align: right;\n",
              "    }\n",
              "</style>\n",
              "<table border=\"1\" class=\"dataframe\">\n",
              "  <thead>\n",
              "    <tr style=\"text-align: right;\">\n",
              "      <th></th>\n",
              "      <th>smiles</th>\n",
              "      <th>A</th>\n",
              "      <th>B</th>\n",
              "      <th>C</th>\n",
              "      <th>mu</th>\n",
              "      <th>alpha</th>\n",
              "      <th>homo</th>\n",
              "      <th>lumo</th>\n",
              "      <th>gap</th>\n",
              "      <th>r2</th>\n",
              "      <th>...</th>\n",
              "      <th>SRW10</th>\n",
              "      <th>TSRW10</th>\n",
              "      <th>MW</th>\n",
              "      <th>AMW</th>\n",
              "      <th>WPath</th>\n",
              "      <th>WPol</th>\n",
              "      <th>Zagreb1</th>\n",
              "      <th>Zagreb2</th>\n",
              "      <th>mZagreb1</th>\n",
              "      <th>mZagreb2</th>\n",
              "    </tr>\n",
              "  </thead>\n",
              "  <tbody>\n",
              "    <tr>\n",
              "      <th>0</th>\n",
              "      <td>O=CC1CCC2OC2C1</td>\n",
              "      <td>3.61423</td>\n",
              "      <td>1.09149</td>\n",
              "      <td>0.93260</td>\n",
              "      <td>2.0905</td>\n",
              "      <td>75.54</td>\n",
              "      <td>-0.2491</td>\n",
              "      <td>-0.0233</td>\n",
              "      <td>0.2258</td>\n",
              "      <td>1253.8737</td>\n",
              "      <td>...</td>\n",
              "      <td>9.206433</td>\n",
              "      <td>58.472343</td>\n",
              "      <td>126.068080</td>\n",
              "      <td>6.635162</td>\n",
              "      <td>85</td>\n",
              "      <td>9</td>\n",
              "      <td>48.0</td>\n",
              "      <td>57.0</td>\n",
              "      <td>2.583333</td>\n",
              "      <td>2.027778</td>\n",
              "    </tr>\n",
              "    <tr>\n",
              "      <th>1</th>\n",
              "      <td>COC12CC=C3CC1C23</td>\n",
              "      <td>3.33497</td>\n",
              "      <td>1.50547</td>\n",
              "      <td>1.26311</td>\n",
              "      <td>1.5224</td>\n",
              "      <td>82.20</td>\n",
              "      <td>-0.2118</td>\n",
              "      <td>-0.0292</td>\n",
              "      <td>0.1826</td>\n",
              "      <td>1047.6956</td>\n",
              "      <td>...</td>\n",
              "      <td>10.344738</td>\n",
              "      <td>64.308792</td>\n",
              "      <td>122.073165</td>\n",
              "      <td>6.424903</td>\n",
              "      <td>75</td>\n",
              "      <td>8</td>\n",
              "      <td>60.0</td>\n",
              "      <td>82.0</td>\n",
              "      <td>2.395833</td>\n",
              "      <td>1.888889</td>\n",
              "    </tr>\n",
              "    <tr>\n",
              "      <th>2</th>\n",
              "      <td>OC1CCC(=O)C1</td>\n",
              "      <td>5.59112</td>\n",
              "      <td>1.96604</td>\n",
              "      <td>1.53851</td>\n",
              "      <td>2.2377</td>\n",
              "      <td>56.85</td>\n",
              "      <td>-0.2381</td>\n",
              "      <td>-0.0172</td>\n",
              "      <td>0.2209</td>\n",
              "      <td>771.3820</td>\n",
              "      <td>...</td>\n",
              "      <td>8.206584</td>\n",
              "      <td>47.382536</td>\n",
              "      <td>100.052429</td>\n",
              "      <td>6.670162</td>\n",
              "      <td>41</td>\n",
              "      <td>4</td>\n",
              "      <td>32.0</td>\n",
              "      <td>34.0</td>\n",
              "      <td>2.972222</td>\n",
              "      <td>1.583333</td>\n",
              "    </tr>\n",
              "    <tr>\n",
              "      <th>3</th>\n",
              "      <td>N#CC12NC3CNC1C23</td>\n",
              "      <td>4.19762</td>\n",
              "      <td>1.34307</td>\n",
              "      <td>1.21397</td>\n",
              "      <td>5.2940</td>\n",
              "      <td>74.13</td>\n",
              "      <td>-0.2286</td>\n",
              "      <td>0.0082</td>\n",
              "      <td>0.2368</td>\n",
              "      <td>1017.8124</td>\n",
              "      <td>...</td>\n",
              "      <td>10.394610</td>\n",
              "      <td>64.379700</td>\n",
              "      <td>121.063997</td>\n",
              "      <td>7.566500</td>\n",
              "      <td>77</td>\n",
              "      <td>7</td>\n",
              "      <td>60.0</td>\n",
              "      <td>82.0</td>\n",
              "      <td>2.395833</td>\n",
              "      <td>1.888889</td>\n",
              "    </tr>\n",
              "    <tr>\n",
              "      <th>4</th>\n",
              "      <td>CC(=NO)CC(C)(C)C</td>\n",
              "      <td>2.79330</td>\n",
              "      <td>0.93080</td>\n",
              "      <td>0.84919</td>\n",
              "      <td>0.5406</td>\n",
              "      <td>88.74</td>\n",
              "      <td>-0.2380</td>\n",
              "      <td>0.0127</td>\n",
              "      <td>0.2507</td>\n",
              "      <td>1518.5343</td>\n",
              "      <td>...</td>\n",
              "      <td>8.498418</td>\n",
              "      <td>36.964640</td>\n",
              "      <td>129.115364</td>\n",
              "      <td>5.379807</td>\n",
              "      <td>94</td>\n",
              "      <td>7</td>\n",
              "      <td>38.0</td>\n",
              "      <td>37.0</td>\n",
              "      <td>5.673611</td>\n",
              "      <td>2.041667</td>\n",
              "    </tr>\n",
              "    <tr>\n",
              "      <th>...</th>\n",
              "      <td>...</td>\n",
              "      <td>...</td>\n",
              "      <td>...</td>\n",
              "      <td>...</td>\n",
              "      <td>...</td>\n",
              "      <td>...</td>\n",
              "      <td>...</td>\n",
              "      <td>...</td>\n",
              "      <td>...</td>\n",
              "      <td>...</td>\n",
              "      <td>...</td>\n",
              "      <td>...</td>\n",
              "      <td>...</td>\n",
              "      <td>...</td>\n",
              "      <td>...</td>\n",
              "      <td>...</td>\n",
              "      <td>...</td>\n",
              "      <td>...</td>\n",
              "      <td>...</td>\n",
              "      <td>...</td>\n",
              "      <td>...</td>\n",
              "    </tr>\n",
              "    <tr>\n",
              "      <th>19995</th>\n",
              "      <td>C1OC23CCN=C2NC13</td>\n",
              "      <td>3.34284</td>\n",
              "      <td>1.73396</td>\n",
              "      <td>1.32936</td>\n",
              "      <td>3.1256</td>\n",
              "      <td>73.93</td>\n",
              "      <td>-0.2273</td>\n",
              "      <td>0.0109</td>\n",
              "      <td>0.2382</td>\n",
              "      <td>958.9895</td>\n",
              "      <td>...</td>\n",
              "      <td>10.307719</td>\n",
              "      <td>56.408375</td>\n",
              "      <td>124.063663</td>\n",
              "      <td>7.297863</td>\n",
              "      <td>74</td>\n",
              "      <td>9</td>\n",
              "      <td>58.0</td>\n",
              "      <td>76.0</td>\n",
              "      <td>1.784722</td>\n",
              "      <td>1.833333</td>\n",
              "    </tr>\n",
              "    <tr>\n",
              "      <th>19996</th>\n",
              "      <td>CC(C#C)C1=CON=C1</td>\n",
              "      <td>3.29901</td>\n",
              "      <td>1.16566</td>\n",
              "      <td>0.91521</td>\n",
              "      <td>2.9980</td>\n",
              "      <td>75.07</td>\n",
              "      <td>-0.2584</td>\n",
              "      <td>-0.0125</td>\n",
              "      <td>0.2459</td>\n",
              "      <td>1236.5085</td>\n",
              "      <td>...</td>\n",
              "      <td>8.520986</td>\n",
              "      <td>50.281704</td>\n",
              "      <td>121.052764</td>\n",
              "      <td>7.565798</td>\n",
              "      <td>89</td>\n",
              "      <td>8</td>\n",
              "      <td>40.0</td>\n",
              "      <td>44.0</td>\n",
              "      <td>3.472222</td>\n",
              "      <td>2.194444</td>\n",
              "    </tr>\n",
              "    <tr>\n",
              "      <th>19997</th>\n",
              "      <td>CC(C)(C)C(C#N)C#N</td>\n",
              "      <td>1.79871</td>\n",
              "      <td>1.63214</td>\n",
              "      <td>1.07089</td>\n",
              "      <td>4.5091</td>\n",
              "      <td>79.46</td>\n",
              "      <td>-0.3313</td>\n",
              "      <td>-0.0089</td>\n",
              "      <td>0.3225</td>\n",
              "      <td>1197.0545</td>\n",
              "      <td>...</td>\n",
              "      <td>8.751000</td>\n",
              "      <td>37.448312</td>\n",
              "      <td>122.084398</td>\n",
              "      <td>6.425495</td>\n",
              "      <td>88</td>\n",
              "      <td>10</td>\n",
              "      <td>38.0</td>\n",
              "      <td>40.0</td>\n",
              "      <td>5.673611</td>\n",
              "      <td>2.166667</td>\n",
              "    </tr>\n",
              "    <tr>\n",
              "      <th>19998</th>\n",
              "      <td>COC(=O)C1CC(=O)N1</td>\n",
              "      <td>4.65384</td>\n",
              "      <td>0.89755</td>\n",
              "      <td>0.83874</td>\n",
              "      <td>4.4515</td>\n",
              "      <td>66.65</td>\n",
              "      <td>-0.2559</td>\n",
              "      <td>-0.0047</td>\n",
              "      <td>0.2512</td>\n",
              "      <td>1364.6319</td>\n",
              "      <td>...</td>\n",
              "      <td>9.144094</td>\n",
              "      <td>38.770899</td>\n",
              "      <td>129.042593</td>\n",
              "      <td>8.065162</td>\n",
              "      <td>94</td>\n",
              "      <td>8</td>\n",
              "      <td>42.0</td>\n",
              "      <td>47.0</td>\n",
              "      <td>4.083333</td>\n",
              "      <td>2.111111</td>\n",
              "    </tr>\n",
              "    <tr>\n",
              "      <th>19999</th>\n",
              "      <td>CCC1OC2CC12C#N</td>\n",
              "      <td>2.81698</td>\n",
              "      <td>1.18586</td>\n",
              "      <td>0.96968</td>\n",
              "      <td>3.1090</td>\n",
              "      <td>77.79</td>\n",
              "      <td>-0.2616</td>\n",
              "      <td>0.0099</td>\n",
              "      <td>0.2715</td>\n",
              "      <td>1260.0066</td>\n",
              "      <td>...</td>\n",
              "      <td>10.057538</td>\n",
              "      <td>62.297390</td>\n",
              "      <td>123.068414</td>\n",
              "      <td>6.837134</td>\n",
              "      <td>84</td>\n",
              "      <td>9</td>\n",
              "      <td>52.0</td>\n",
              "      <td>68.0</td>\n",
              "      <td>3.284722</td>\n",
              "      <td>2.083333</td>\n",
              "    </tr>\n",
              "  </tbody>\n",
              "</table>\n",
              "<p>20000 rows × 1885 columns</p>\n",
              "</div>\n",
              "    <div class=\"colab-df-buttons\">\n",
              "\n",
              "  <div class=\"colab-df-container\">\n",
              "    <button class=\"colab-df-convert\" onclick=\"convertToInteractive('df-c7774680-7fe2-4308-bf20-c70d2a63d6c1')\"\n",
              "            title=\"Convert this dataframe to an interactive table.\"\n",
              "            style=\"display:none;\">\n",
              "\n",
              "  <svg xmlns=\"http://www.w3.org/2000/svg\" height=\"24px\" viewBox=\"0 -960 960 960\">\n",
              "    <path d=\"M120-120v-720h720v720H120Zm60-500h600v-160H180v160Zm220 220h160v-160H400v160Zm0 220h160v-160H400v160ZM180-400h160v-160H180v160Zm440 0h160v-160H620v160ZM180-180h160v-160H180v160Zm440 0h160v-160H620v160Z\"/>\n",
              "  </svg>\n",
              "    </button>\n",
              "\n",
              "  <style>\n",
              "    .colab-df-container {\n",
              "      display:flex;\n",
              "      gap: 12px;\n",
              "    }\n",
              "\n",
              "    .colab-df-convert {\n",
              "      background-color: #E8F0FE;\n",
              "      border: none;\n",
              "      border-radius: 50%;\n",
              "      cursor: pointer;\n",
              "      display: none;\n",
              "      fill: #1967D2;\n",
              "      height: 32px;\n",
              "      padding: 0 0 0 0;\n",
              "      width: 32px;\n",
              "    }\n",
              "\n",
              "    .colab-df-convert:hover {\n",
              "      background-color: #E2EBFA;\n",
              "      box-shadow: 0px 1px 2px rgba(60, 64, 67, 0.3), 0px 1px 3px 1px rgba(60, 64, 67, 0.15);\n",
              "      fill: #174EA6;\n",
              "    }\n",
              "\n",
              "    .colab-df-buttons div {\n",
              "      margin-bottom: 4px;\n",
              "    }\n",
              "\n",
              "    [theme=dark] .colab-df-convert {\n",
              "      background-color: #3B4455;\n",
              "      fill: #D2E3FC;\n",
              "    }\n",
              "\n",
              "    [theme=dark] .colab-df-convert:hover {\n",
              "      background-color: #434B5C;\n",
              "      box-shadow: 0px 1px 3px 1px rgba(0, 0, 0, 0.15);\n",
              "      filter: drop-shadow(0px 1px 2px rgba(0, 0, 0, 0.3));\n",
              "      fill: #FFFFFF;\n",
              "    }\n",
              "  </style>\n",
              "\n",
              "    <script>\n",
              "      const buttonEl =\n",
              "        document.querySelector('#df-c7774680-7fe2-4308-bf20-c70d2a63d6c1 button.colab-df-convert');\n",
              "      buttonEl.style.display =\n",
              "        google.colab.kernel.accessAllowed ? 'block' : 'none';\n",
              "\n",
              "      async function convertToInteractive(key) {\n",
              "        const element = document.querySelector('#df-c7774680-7fe2-4308-bf20-c70d2a63d6c1');\n",
              "        const dataTable =\n",
              "          await google.colab.kernel.invokeFunction('convertToInteractive',\n",
              "                                                    [key], {});\n",
              "        if (!dataTable) return;\n",
              "\n",
              "        const docLinkHtml = 'Like what you see? Visit the ' +\n",
              "          '<a target=\"_blank\" href=https://colab.research.google.com/notebooks/data_table.ipynb>data table notebook</a>'\n",
              "          + ' to learn more about interactive tables.';\n",
              "        element.innerHTML = '';\n",
              "        dataTable['output_type'] = 'display_data';\n",
              "        await google.colab.output.renderOutput(dataTable, element);\n",
              "        const docLink = document.createElement('div');\n",
              "        docLink.innerHTML = docLinkHtml;\n",
              "        element.appendChild(docLink);\n",
              "      }\n",
              "    </script>\n",
              "  </div>\n",
              "\n",
              "\n",
              "<div id=\"df-d3dc722a-4c2a-4f89-bb80-8210b28490c0\">\n",
              "  <button class=\"colab-df-quickchart\" onclick=\"quickchart('df-d3dc722a-4c2a-4f89-bb80-8210b28490c0')\"\n",
              "            title=\"Suggest charts\"\n",
              "            style=\"display:none;\">\n",
              "\n",
              "<svg xmlns=\"http://www.w3.org/2000/svg\" height=\"24px\"viewBox=\"0 0 24 24\"\n",
              "     width=\"24px\">\n",
              "    <g>\n",
              "        <path d=\"M19 3H5c-1.1 0-2 .9-2 2v14c0 1.1.9 2 2 2h14c1.1 0 2-.9 2-2V5c0-1.1-.9-2-2-2zM9 17H7v-7h2v7zm4 0h-2V7h2v10zm4 0h-2v-4h2v4z\"/>\n",
              "    </g>\n",
              "</svg>\n",
              "  </button>\n",
              "\n",
              "<style>\n",
              "  .colab-df-quickchart {\n",
              "      --bg-color: #E8F0FE;\n",
              "      --fill-color: #1967D2;\n",
              "      --hover-bg-color: #E2EBFA;\n",
              "      --hover-fill-color: #174EA6;\n",
              "      --disabled-fill-color: #AAA;\n",
              "      --disabled-bg-color: #DDD;\n",
              "  }\n",
              "\n",
              "  [theme=dark] .colab-df-quickchart {\n",
              "      --bg-color: #3B4455;\n",
              "      --fill-color: #D2E3FC;\n",
              "      --hover-bg-color: #434B5C;\n",
              "      --hover-fill-color: #FFFFFF;\n",
              "      --disabled-bg-color: #3B4455;\n",
              "      --disabled-fill-color: #666;\n",
              "  }\n",
              "\n",
              "  .colab-df-quickchart {\n",
              "    background-color: var(--bg-color);\n",
              "    border: none;\n",
              "    border-radius: 50%;\n",
              "    cursor: pointer;\n",
              "    display: none;\n",
              "    fill: var(--fill-color);\n",
              "    height: 32px;\n",
              "    padding: 0;\n",
              "    width: 32px;\n",
              "  }\n",
              "\n",
              "  .colab-df-quickchart:hover {\n",
              "    background-color: var(--hover-bg-color);\n",
              "    box-shadow: 0 1px 2px rgba(60, 64, 67, 0.3), 0 1px 3px 1px rgba(60, 64, 67, 0.15);\n",
              "    fill: var(--button-hover-fill-color);\n",
              "  }\n",
              "\n",
              "  .colab-df-quickchart-complete:disabled,\n",
              "  .colab-df-quickchart-complete:disabled:hover {\n",
              "    background-color: var(--disabled-bg-color);\n",
              "    fill: var(--disabled-fill-color);\n",
              "    box-shadow: none;\n",
              "  }\n",
              "\n",
              "  .colab-df-spinner {\n",
              "    border: 2px solid var(--fill-color);\n",
              "    border-color: transparent;\n",
              "    border-bottom-color: var(--fill-color);\n",
              "    animation:\n",
              "      spin 1s steps(1) infinite;\n",
              "  }\n",
              "\n",
              "  @keyframes spin {\n",
              "    0% {\n",
              "      border-color: transparent;\n",
              "      border-bottom-color: var(--fill-color);\n",
              "      border-left-color: var(--fill-color);\n",
              "    }\n",
              "    20% {\n",
              "      border-color: transparent;\n",
              "      border-left-color: var(--fill-color);\n",
              "      border-top-color: var(--fill-color);\n",
              "    }\n",
              "    30% {\n",
              "      border-color: transparent;\n",
              "      border-left-color: var(--fill-color);\n",
              "      border-top-color: var(--fill-color);\n",
              "      border-right-color: var(--fill-color);\n",
              "    }\n",
              "    40% {\n",
              "      border-color: transparent;\n",
              "      border-right-color: var(--fill-color);\n",
              "      border-top-color: var(--fill-color);\n",
              "    }\n",
              "    60% {\n",
              "      border-color: transparent;\n",
              "      border-right-color: var(--fill-color);\n",
              "    }\n",
              "    80% {\n",
              "      border-color: transparent;\n",
              "      border-right-color: var(--fill-color);\n",
              "      border-bottom-color: var(--fill-color);\n",
              "    }\n",
              "    90% {\n",
              "      border-color: transparent;\n",
              "      border-bottom-color: var(--fill-color);\n",
              "    }\n",
              "  }\n",
              "</style>\n",
              "\n",
              "  <script>\n",
              "    async function quickchart(key) {\n",
              "      const quickchartButtonEl =\n",
              "        document.querySelector('#' + key + ' button');\n",
              "      quickchartButtonEl.disabled = true;  // To prevent multiple clicks.\n",
              "      quickchartButtonEl.classList.add('colab-df-spinner');\n",
              "      try {\n",
              "        const charts = await google.colab.kernel.invokeFunction(\n",
              "            'suggestCharts', [key], {});\n",
              "      } catch (error) {\n",
              "        console.error('Error during call to suggestCharts:', error);\n",
              "      }\n",
              "      quickchartButtonEl.classList.remove('colab-df-spinner');\n",
              "      quickchartButtonEl.classList.add('colab-df-quickchart-complete');\n",
              "    }\n",
              "    (() => {\n",
              "      let quickchartButtonEl =\n",
              "        document.querySelector('#df-d3dc722a-4c2a-4f89-bb80-8210b28490c0 button');\n",
              "      quickchartButtonEl.style.display =\n",
              "        google.colab.kernel.accessAllowed ? 'block' : 'none';\n",
              "    })();\n",
              "  </script>\n",
              "</div>\n",
              "    </div>\n",
              "  </div>\n"
            ],
            "text/plain": [
              "                  smiles        A        B        C      mu  alpha    homo  \\\n",
              "0         O=CC1CCC2OC2C1  3.61423  1.09149  0.93260  2.0905  75.54 -0.2491   \n",
              "1       COC12CC=C3CC1C23  3.33497  1.50547  1.26311  1.5224  82.20 -0.2118   \n",
              "2           OC1CCC(=O)C1  5.59112  1.96604  1.53851  2.2377  56.85 -0.2381   \n",
              "3       N#CC12NC3CNC1C23  4.19762  1.34307  1.21397  5.2940  74.13 -0.2286   \n",
              "4       CC(=NO)CC(C)(C)C  2.79330  0.93080  0.84919  0.5406  88.74 -0.2380   \n",
              "...                  ...      ...      ...      ...     ...    ...     ...   \n",
              "19995   C1OC23CCN=C2NC13  3.34284  1.73396  1.32936  3.1256  73.93 -0.2273   \n",
              "19996   CC(C#C)C1=CON=C1  3.29901  1.16566  0.91521  2.9980  75.07 -0.2584   \n",
              "19997  CC(C)(C)C(C#N)C#N  1.79871  1.63214  1.07089  4.5091  79.46 -0.3313   \n",
              "19998  COC(=O)C1CC(=O)N1  4.65384  0.89755  0.83874  4.4515  66.65 -0.2559   \n",
              "19999     CCC1OC2CC12C#N  2.81698  1.18586  0.96968  3.1090  77.79 -0.2616   \n",
              "\n",
              "         lumo     gap         r2  ...      SRW10     TSRW10          MW  \\\n",
              "0     -0.0233  0.2258  1253.8737  ...   9.206433  58.472343  126.068080   \n",
              "1     -0.0292  0.1826  1047.6956  ...  10.344738  64.308792  122.073165   \n",
              "2     -0.0172  0.2209   771.3820  ...   8.206584  47.382536  100.052429   \n",
              "3      0.0082  0.2368  1017.8124  ...  10.394610  64.379700  121.063997   \n",
              "4      0.0127  0.2507  1518.5343  ...   8.498418  36.964640  129.115364   \n",
              "...       ...     ...        ...  ...        ...        ...         ...   \n",
              "19995  0.0109  0.2382   958.9895  ...  10.307719  56.408375  124.063663   \n",
              "19996 -0.0125  0.2459  1236.5085  ...   8.520986  50.281704  121.052764   \n",
              "19997 -0.0089  0.3225  1197.0545  ...   8.751000  37.448312  122.084398   \n",
              "19998 -0.0047  0.2512  1364.6319  ...   9.144094  38.770899  129.042593   \n",
              "19999  0.0099  0.2715  1260.0066  ...  10.057538  62.297390  123.068414   \n",
              "\n",
              "            AMW  WPath  WPol  Zagreb1  Zagreb2  mZagreb1  mZagreb2  \n",
              "0      6.635162     85     9     48.0     57.0  2.583333  2.027778  \n",
              "1      6.424903     75     8     60.0     82.0  2.395833  1.888889  \n",
              "2      6.670162     41     4     32.0     34.0  2.972222  1.583333  \n",
              "3      7.566500     77     7     60.0     82.0  2.395833  1.888889  \n",
              "4      5.379807     94     7     38.0     37.0  5.673611  2.041667  \n",
              "...         ...    ...   ...      ...      ...       ...       ...  \n",
              "19995  7.297863     74     9     58.0     76.0  1.784722  1.833333  \n",
              "19996  7.565798     89     8     40.0     44.0  3.472222  2.194444  \n",
              "19997  6.425495     88    10     38.0     40.0  5.673611  2.166667  \n",
              "19998  8.065162     94     8     42.0     47.0  4.083333  2.111111  \n",
              "19999  6.837134     84     9     52.0     68.0  3.284722  2.083333  \n",
              "\n",
              "[20000 rows x 1885 columns]"
            ]
          },
          "execution_count": 16,
          "metadata": {},
          "output_type": "execute_result"
        }
      ],
      "source": [
        "df"
      ]
    },
    {
      "cell_type": "code",
      "execution_count": 17,
      "metadata": {
        "colab": {
          "base_uri": "https://localhost:8080/"
        },
        "id": "vscLtp8J-sun",
        "outputId": "c36b6ea1-a5a9-4032-8b90-cff7feabacda"
      },
      "outputs": [
        {
          "data": {
            "text/plain": [
              "smiles       object\n",
              "A           float64\n",
              "B           float64\n",
              "C           float64\n",
              "mu          float64\n",
              "             ...   \n",
              "WPol          int64\n",
              "Zagreb1     float64\n",
              "Zagreb2     float64\n",
              "mZagreb1    float64\n",
              "mZagreb2    float64\n",
              "Length: 1885, dtype: object"
            ]
          },
          "execution_count": 17,
          "metadata": {},
          "output_type": "execute_result"
        }
      ],
      "source": [
        "df.dtypes # As you can see, we have a lot of object type descriptors"
      ]
    },
    {
      "cell_type": "markdown",
      "metadata": {
        "id": "kz4o_36B-lL6"
      },
      "source": [
        "Since the columns with errors are only of the object type, we will delete them, but there are two identification columns of this type (smiles and model id), I want to leave them for now"
      ]
    },
    {
      "cell_type": "code",
      "execution_count": null,
      "metadata": {
        "id": "JOesORYDp8Ki"
      },
      "outputs": [],
      "source": [
        "df['GATS4p']"
      ]
    },
    {
      "cell_type": "code",
      "execution_count": 18,
      "metadata": {
        "colab": {
          "base_uri": "https://localhost:8080/"
        },
        "id": "JeXUypai-20z",
        "outputId": "bb66a2f5-02c6-4fe7-a02e-2fd4a7efe122"
      },
      "outputs": [
        {
          "name": "stdout",
          "output_type": "stream",
          "text": [
            "['ABC', 'ABCGG', 'AATS3dv', 'AATS4dv', 'AATS5dv', 'AATS6dv', 'AATS7dv', 'AATS8dv', 'AATS3d', 'AATS4d', 'AATS5d', 'AATS6d', 'AATS7d', 'AATS8d', 'AATS3s', 'AATS4s', 'AATS5s', 'AATS6s', 'AATS7s', 'AATS8s', 'AATS3Z', 'AATS4Z', 'AATS5Z', 'AATS6Z', 'AATS7Z', 'AATS8Z', 'AATS3m', 'AATS4m', 'AATS5m', 'AATS6m', 'AATS7m', 'AATS8m', 'AATS3v', 'AATS4v', 'AATS5v', 'AATS6v', 'AATS7v', 'AATS8v', 'AATS3se', 'AATS4se', 'AATS5se', 'AATS6se', 'AATS7se', 'AATS8se', 'AATS3pe', 'AATS4pe', 'AATS5pe', 'AATS6pe', 'AATS7pe', 'AATS8pe', 'AATS3are', 'AATS4are', 'AATS5are', 'AATS6are', 'AATS7are', 'AATS8are', 'AATS3p', 'AATS4p', 'AATS5p', 'AATS6p', 'AATS7p', 'AATS8p', 'AATS3i', 'AATS4i', 'AATS5i', 'AATS6i', 'AATS7i', 'AATS8i', 'AATSC3c', 'AATSC4c', 'AATSC5c', 'AATSC6c', 'AATSC7c', 'AATSC8c', 'AATSC3dv', 'AATSC4dv', 'AATSC5dv', 'AATSC6dv', 'AATSC7dv', 'AATSC8dv', 'AATSC3d', 'AATSC4d', 'AATSC5d', 'AATSC6d', 'AATSC7d', 'AATSC8d', 'AATSC3s', 'AATSC4s', 'AATSC5s', 'AATSC6s', 'AATSC7s', 'AATSC8s', 'AATSC3Z', 'AATSC4Z', 'AATSC5Z', 'AATSC6Z', 'AATSC7Z', 'AATSC8Z', 'AATSC3m', 'AATSC4m', 'AATSC5m', 'AATSC6m', 'AATSC7m', 'AATSC8m', 'AATSC3v', 'AATSC4v', 'AATSC5v', 'AATSC6v', 'AATSC7v', 'AATSC8v', 'AATSC3se', 'AATSC4se', 'AATSC5se', 'AATSC6se', 'AATSC7se', 'AATSC8se', 'AATSC3pe', 'AATSC4pe', 'AATSC5pe', 'AATSC6pe', 'AATSC7pe', 'AATSC8pe', 'AATSC3are', 'AATSC4are', 'AATSC5are', 'AATSC6are', 'AATSC7are', 'AATSC8are', 'AATSC3p', 'AATSC4p', 'AATSC5p', 'AATSC6p', 'AATSC7p', 'AATSC8p', 'AATSC3i', 'AATSC4i', 'AATSC5i', 'AATSC6i', 'AATSC7i', 'AATSC8i', 'MATS3c', 'MATS4c', 'MATS5c', 'MATS6c', 'MATS7c', 'MATS8c', 'MATS3dv', 'MATS4dv', 'MATS5dv', 'MATS6dv', 'MATS7dv', 'MATS8dv', 'MATS1d', 'MATS2d', 'MATS3d', 'MATS4d', 'MATS5d', 'MATS6d', 'MATS7d', 'MATS8d', 'MATS3s', 'MATS4s', 'MATS5s', 'MATS6s', 'MATS7s', 'MATS8s', 'MATS3Z', 'MATS4Z', 'MATS5Z', 'MATS6Z', 'MATS7Z', 'MATS8Z', 'MATS3m', 'MATS4m', 'MATS5m', 'MATS6m', 'MATS7m', 'MATS8m', 'MATS3v', 'MATS4v', 'MATS5v', 'MATS6v', 'MATS7v', 'MATS8v', 'MATS3se', 'MATS4se', 'MATS5se', 'MATS6se', 'MATS7se', 'MATS8se', 'MATS3pe', 'MATS4pe', 'MATS5pe', 'MATS6pe', 'MATS7pe', 'MATS8pe', 'MATS3are', 'MATS4are', 'MATS5are', 'MATS6are', 'MATS7are', 'MATS8are', 'MATS3p', 'MATS4p', 'MATS5p', 'MATS6p', 'MATS7p', 'MATS8p', 'MATS3i', 'MATS4i', 'MATS5i', 'MATS6i', 'MATS7i', 'MATS8i', 'GATS3c', 'GATS4c', 'GATS5c', 'GATS6c', 'GATS7c', 'GATS8c', 'GATS3dv', 'GATS4dv', 'GATS5dv', 'GATS6dv', 'GATS7dv', 'GATS8dv', 'GATS1d', 'GATS2d', 'GATS3d', 'GATS4d', 'GATS5d', 'GATS6d', 'GATS7d', 'GATS8d', 'GATS3s', 'GATS4s', 'GATS5s', 'GATS6s', 'GATS7s', 'GATS8s', 'GATS3Z', 'GATS4Z', 'GATS5Z', 'GATS6Z', 'GATS7Z', 'GATS8Z', 'GATS3m', 'GATS4m', 'GATS5m', 'GATS6m', 'GATS7m', 'GATS8m', 'GATS3v', 'GATS4v', 'GATS5v', 'GATS6v', 'GATS7v', 'GATS8v', 'GATS3se', 'GATS4se', 'GATS5se', 'GATS6se', 'GATS7se', 'GATS8se', 'GATS3pe', 'GATS4pe', 'GATS5pe', 'GATS6pe', 'GATS7pe', 'GATS8pe', 'GATS3are', 'GATS4are', 'GATS5are', 'GATS6are', 'GATS7are', 'GATS8are', 'GATS3p', 'GATS4p', 'GATS5p', 'GATS6p', 'GATS7p', 'GATS8p', 'GATS3i', 'GATS4i', 'GATS5i', 'GATS6i', 'GATS7i', 'GATS8i', 'PNSA1', 'PNSA2', 'PNSA3', 'PNSA4', 'PNSA5', 'PPSA1', 'PPSA2', 'PPSA3', 'PPSA4', 'PPSA5', 'DPSA1', 'DPSA2', 'DPSA3', 'DPSA4', 'DPSA5', 'FNSA1', 'FNSA2', 'FNSA3', 'FNSA4', 'FNSA5', 'FPSA1', 'FPSA2', 'FPSA3', 'FPSA4', 'FPSA5', 'WNSA1', 'WNSA2', 'WNSA3', 'WNSA4', 'WNSA5', 'WPSA1', 'WPSA2', 'WPSA3', 'WPSA4', 'WPSA5', 'RNCS', 'RPCS', 'TASA', 'TPSA', 'RASA', 'RPSA', 'HybRatio', 'AXp-2d', 'AXp-3d', 'AXp-4d', 'AXp-5d', 'AXp-6d', 'AXp-7d', 'AXp-2dv', 'AXp-3dv', 'AXp-4dv', 'AXp-5dv', 'AXp-6dv', 'AXp-7dv', 'SpAbs_Dt', 'SpMax_Dt', 'SpDiam_Dt', 'SpAD_Dt', 'SpMAD_Dt', 'LogEE_Dt', 'SM1_Dt', 'VE1_Dt', 'VE2_Dt', 'VE3_Dt', 'VR1_Dt', 'VR2_Dt', 'VR3_Dt', 'DetourIndex', 'MAXsLi', 'MAXssBe', 'MAXssssBe', 'MAXssBH', 'MAXsssB', 'MAXssssB', 'MAXsCH3', 'MAXdCH2', 'MAXssCH2', 'MAXtCH', 'MAXdsCH', 'MAXaaCH', 'MAXsssCH', 'MAXddC', 'MAXtsC', 'MAXdssC', 'MAXaasC', 'MAXaaaC', 'MAXssssC', 'MAXsNH3', 'MAXsNH2', 'MAXssNH2', 'MAXdNH', 'MAXssNH', 'MAXaaNH', 'MAXtN', 'MAXsssNH', 'MAXdsN', 'MAXaaN', 'MAXsssN', 'MAXddsN', 'MAXaasN', 'MAXssssN', 'MAXsOH', 'MAXdO', 'MAXssO', 'MAXaaO', 'MAXsF', 'MAXsSiH3', 'MAXssSiH2', 'MAXsssSiH', 'MAXssssSi', 'MAXsPH2', 'MAXssPH', 'MAXsssP', 'MAXdsssP', 'MAXsssssP', 'MAXsSH', 'MAXdS', 'MAXssS', 'MAXaaS', 'MAXdssS', 'MAXddssS', 'MAXsCl', 'MAXsGeH3', 'MAXssGeH2', 'MAXsssGeH', 'MAXssssGe', 'MAXsAsH2', 'MAXssAsH', 'MAXsssAs', 'MAXsssdAs', 'MAXsssssAs', 'MAXsSeH', 'MAXdSe', 'MAXssSe', 'MAXaaSe', 'MAXdssSe', 'MAXddssSe', 'MAXsBr', 'MAXsSnH3', 'MAXssSnH2', 'MAXsssSnH', 'MAXssssSn', 'MAXsI', 'MAXsPbH3', 'MAXssPbH2', 'MAXsssPbH', 'MAXssssPb', 'MINsLi', 'MINssBe', 'MINssssBe', 'MINssBH', 'MINsssB', 'MINssssB', 'MINsCH3', 'MINdCH2', 'MINssCH2', 'MINtCH', 'MINdsCH', 'MINaaCH', 'MINsssCH', 'MINddC', 'MINtsC', 'MINdssC', 'MINaasC', 'MINaaaC', 'MINssssC', 'MINsNH3', 'MINsNH2', 'MINssNH2', 'MINdNH', 'MINssNH', 'MINaaNH', 'MINtN', 'MINsssNH', 'MINdsN', 'MINaaN', 'MINsssN', 'MINddsN', 'MINaasN', 'MINssssN', 'MINsOH', 'MINdO', 'MINssO', 'MINaaO', 'MINsF', 'MINsSiH3', 'MINssSiH2', 'MINsssSiH', 'MINssssSi', 'MINsPH2', 'MINssPH', 'MINsssP', 'MINdsssP', 'MINsssssP', 'MINsSH', 'MINdS', 'MINssS', 'MINaaS', 'MINdssS', 'MINddssS', 'MINsCl', 'MINsGeH3', 'MINssGeH2', 'MINsssGeH', 'MINssssGe', 'MINsAsH2', 'MINssAsH', 'MINsssAs', 'MINsssdAs', 'MINsssssAs', 'MINsSeH', 'MINdSe', 'MINssSe', 'MINaaSe', 'MINdssSe', 'MINddssSe', 'MINsBr', 'MINsSnH3', 'MINssSnH2', 'MINsssSnH', 'MINssssSn', 'MINsI', 'MINsPbH3', 'MINssPbH2', 'MINsssPbH', 'MINssssPb', 'GeomDiameter', 'GeomRadius', 'GeomShapeIndex', 'GeomPetitjeanIndex', 'GRAV', 'GRAVH', 'GRAVp', 'GRAVHp', 'Kier2', 'Kier3', 'Mor01', 'Mor02', 'Mor03', 'Mor04', 'Mor05', 'Mor06', 'Mor07', 'Mor08', 'Mor09', 'Mor10', 'Mor11', 'Mor12', 'Mor13', 'Mor14', 'Mor15', 'Mor16', 'Mor17', 'Mor18', 'Mor19', 'Mor20', 'Mor21', 'Mor22', 'Mor23', 'Mor24', 'Mor25', 'Mor26', 'Mor27', 'Mor28', 'Mor29', 'Mor30', 'Mor31', 'Mor32', 'Mor01m', 'Mor02m', 'Mor03m', 'Mor04m', 'Mor05m', 'Mor06m', 'Mor07m', 'Mor08m', 'Mor09m', 'Mor10m', 'Mor11m', 'Mor12m', 'Mor13m', 'Mor14m', 'Mor15m', 'Mor16m', 'Mor17m', 'Mor18m', 'Mor19m', 'Mor20m', 'Mor21m', 'Mor22m', 'Mor23m', 'Mor24m', 'Mor25m', 'Mor26m', 'Mor27m', 'Mor28m', 'Mor29m', 'Mor30m', 'Mor31m', 'Mor32m', 'Mor01v', 'Mor02v', 'Mor03v', 'Mor04v', 'Mor05v', 'Mor06v', 'Mor07v', 'Mor08v', 'Mor09v', 'Mor10v', 'Mor11v', 'Mor12v', 'Mor13v', 'Mor14v', 'Mor15v', 'Mor16v', 'Mor17v', 'Mor18v', 'Mor19v', 'Mor20v', 'Mor21v', 'Mor22v', 'Mor23v', 'Mor24v', 'Mor25v', 'Mor26v', 'Mor27v', 'Mor28v', 'Mor29v', 'Mor30v', 'Mor31v', 'Mor32v', 'Mor01se', 'Mor02se', 'Mor03se', 'Mor04se', 'Mor05se', 'Mor06se', 'Mor07se', 'Mor08se', 'Mor09se', 'Mor10se', 'Mor11se', 'Mor12se', 'Mor13se', 'Mor14se', 'Mor15se', 'Mor16se', 'Mor17se', 'Mor18se', 'Mor19se', 'Mor20se', 'Mor21se', 'Mor22se', 'Mor23se', 'Mor24se', 'Mor25se', 'Mor26se', 'Mor27se', 'Mor28se', 'Mor29se', 'Mor30se', 'Mor31se', 'Mor32se', 'Mor01p', 'Mor02p', 'Mor03p', 'Mor04p', 'Mor05p', 'Mor06p', 'Mor07p', 'Mor08p', 'Mor09p', 'Mor10p', 'Mor11p', 'Mor12p', 'Mor13p', 'Mor14p', 'Mor15p', 'Mor16p', 'Mor17p', 'Mor18p', 'Mor19p', 'Mor20p', 'Mor21p', 'Mor22p', 'Mor23p', 'Mor24p', 'Mor25p', 'Mor26p', 'Mor27p', 'Mor28p', 'Mor29p', 'Mor30p', 'Mor31p', 'Mor32p', 'MDEC-11', 'MDEC-12', 'MDEC-13', 'MDEC-14', 'MDEC-22', 'MDEC-23', 'MDEC-24', 'MDEC-33', 'MDEC-34', 'MDEC-44', 'MDEO-11', 'MDEO-12', 'MDEO-22', 'MDEN-11', 'MDEN-12', 'MDEN-13', 'MDEN-22', 'MDEN-23', 'MDEN-33', 'MOMI-X', 'MOMI-Y', 'MOMI-Z', 'PBF']\n"
          ]
        }
      ],
      "source": [
        "# Removing columns that generated the error module 'numpy' has no attribute 'float'.\\n`np...\n",
        "del_list=[]\n",
        "for col in df.columns:\n",
        "  if df[col].dtypes == 'object' and col not in ['mol_id', 'smiles']:\n",
        "    del_list.append(col)\n",
        "print(del_list)"
      ]
    },
    {
      "cell_type": "code",
      "execution_count": 19,
      "metadata": {
        "colab": {
          "base_uri": "https://localhost:8080/"
        },
        "id": "IMURDhs3-6IL",
        "outputId": "3a8e190a-bcd8-4395-97d1-bce24ececd66"
      },
      "outputs": [
        {
          "name": "stdout",
          "output_type": "stream",
          "text": [
            "<class 'pandas.core.frame.DataFrame'>\n",
            "RangeIndex: 20000 entries, 0 to 19999\n",
            "Columns: 1178 entries, smiles to mZagreb2\n",
            "dtypes: bool(2), float64(852), int64(323), object(1)\n",
            "memory usage: 179.5+ MB\n"
          ]
        }
      ],
      "source": [
        "df = df.drop(columns = del_list)\n",
        "df.info() # We have two bool columns, we need to check them"
      ]
    },
    {
      "cell_type": "code",
      "execution_count": 20,
      "metadata": {
        "colab": {
          "base_uri": "https://localhost:8080/"
        },
        "id": "4f9pjXjZ-_4o",
        "outputId": "f917aad0-3b8b-4bae-a8e1-23118333dfa5"
      },
      "outputs": [
        {
          "name": "stdout",
          "output_type": "stream",
          "text": [
            "0        1\n",
            "1        1\n",
            "2        1\n",
            "3        1\n",
            "4        1\n",
            "        ..\n",
            "19995    1\n",
            "19996    1\n",
            "19997    1\n",
            "19998    1\n",
            "19999    1\n",
            "Name: Lipinski, Length: 20000, dtype: int64\n"
          ]
        }
      ],
      "source": [
        "for col in df.columns:\n",
        "  if df[col].dtypes == 'bool':\n",
        "    df[col] = df[col].astype(int) # convert to 0 and 1\n",
        "print(df['Lipinski']) # check"
      ]
    },
    {
      "cell_type": "code",
      "execution_count": 21,
      "metadata": {
        "id": "lqCoANng_L7T"
      },
      "outputs": [],
      "source": [
        "df.to_csv('data_before_Pirson.csv', encoding='utf-8') # to Pearson\n",
        "#files.download('data_descr1.csv')"
      ]
    },
    {
      "cell_type": "markdown",
      "metadata": {
        "id": "igDcgL8E_b8J"
      },
      "source": [
        "1. Pearson correlation\n",
        "\n",
        "(removing features that have an inverse or direct linear relationship)"
      ]
    },
    {
      "cell_type": "code",
      "execution_count": 22,
      "metadata": {
        "id": "CQueNgXB_ekP"
      },
      "outputs": [],
      "source": [
        "df_ex = df.select_dtypes(exclude='object') # Let's take all columns except identification ones"
      ]
    },
    {
      "cell_type": "code",
      "execution_count": 23,
      "metadata": {
        "id": "o5wwPKYP_9GN"
      },
      "outputs": [],
      "source": [
        "correlation_matrix = df.corr(numeric_only=True)"
      ]
    },
    {
      "cell_type": "markdown",
      "metadata": {
        "id": "0-LlLEbiLkrP"
      },
      "source": [
        "gap and homo and lumo correlate: since gap = lumo-homo"
      ]
    },
    {
      "cell_type": "code",
      "execution_count": 24,
      "metadata": {
        "id": "qc_1NlGRLy0z"
      },
      "outputs": [],
      "source": [
        "gap = df['gap'] # To save this column from being truncated since it is the target variable"
      ]
    },
    {
      "cell_type": "code",
      "execution_count": 25,
      "metadata": {
        "id": "SvyZdwQ0L7u6"
      },
      "outputs": [],
      "source": [
        "# homo and Lumo are strongly correlated initially, so it’s worth removing them\n",
        "columns_to_drop = ['homo', 'lumo']\n",
        "df.drop(columns=columns_to_drop, inplace=True)"
      ]
    },
    {
      "cell_type": "code",
      "execution_count": 26,
      "metadata": {
        "id": "A8CTdncg_-J5"
      },
      "outputs": [],
      "source": [
        "FILTER_THRESHOLD = 0.7 #Пороговое значение для корреляции\n",
        "highly_correlated_features = set() #Пустое множество для хранения сильно коррелирующих признаков\n",
        "\n",
        "for i in range(len(correlation_matrix.columns)):\n",
        "    for j in range(i):\n",
        "        if abs(correlation_matrix.iloc[i, j]) > FILTER_THRESHOLD:\n",
        "            colname = correlation_matrix.columns[i]\n",
        "            if colname != 'gap': #gap целевая переменная её нельзя удалить\n",
        "              highly_correlated_features.add(colname)"
      ]
    },
    {
      "cell_type": "code",
      "execution_count": 27,
      "metadata": {
        "id": "KFw1ZSbuBGR_"
      },
      "outputs": [],
      "source": [
        "df_filtered = df.drop(columns=highly_correlated_features) # удалим коррелирующие колонки"
      ]
    },
    {
      "cell_type": "code",
      "execution_count": 28,
      "metadata": {
        "id": "VzInFHuyMbBe"
      },
      "outputs": [],
      "source": [
        "df_filtered['gap'] = gap"
      ]
    },
    {
      "cell_type": "code",
      "execution_count": 29,
      "metadata": {
        "colab": {
          "base_uri": "https://localhost:8080/"
        },
        "id": "ED75u7V8BH27",
        "outputId": "e696a667-313e-434d-e0d6-55d9be9889b5"
      },
      "outputs": [
        {
          "name": "stdout",
          "output_type": "stream",
          "text": [
            "<class 'pandas.core.frame.DataFrame'>\n",
            "RangeIndex: 20000 entries, 0 to 19999\n",
            "Columns: 330 entries, smiles to TopoShapeIndex\n",
            "dtypes: float64(110), int64(219), object(1)\n",
            "memory usage: 50.4+ MB\n"
          ]
        }
      ],
      "source": [
        "df_filtered.info() #у нас осталось 330 колонки - и smiles типа object"
      ]
    },
    {
      "cell_type": "code",
      "execution_count": 30,
      "metadata": {
        "id": "CwlYonaeI7_l"
      },
      "outputs": [],
      "source": [
        "df = df_filtered"
      ]
    },
    {
      "cell_type": "markdown",
      "metadata": {
        "id": "bqE5TkhCBFs7"
      },
      "source": [
        "2. Метод фильтрации признаков по дисперсии\n",
        "\n",
        "(Данные не имеют ценнности для построения модели, так как разборос значения низкий или равен нулю)"
      ]
    },
    {
      "cell_type": "code",
      "execution_count": 31,
      "metadata": {
        "colab": {
          "base_uri": "https://localhost:8080/"
        },
        "id": "woQs7GFcIywz",
        "outputId": "b61c9e37-dfea-43f5-a6bc-a527e8c22df5"
      },
      "outputs": [
        {
          "name": "stderr",
          "output_type": "stream",
          "text": [
            "<ipython-input-31-a1b9f8a2fdd1>:2: FutureWarning: The default value of numeric_only in DataFrame.var is deprecated. In a future version, it will default to False. In addition, specifying 'numeric_only=None' is deprecated. Select only valid columns or specify the value of numeric_only to silence this warning.\n",
            "  variances = df.var()\n"
          ]
        }
      ],
      "source": [
        "# Вычисление дисперсии для каждого столбца\n",
        "variances = df.var()\n",
        "\n",
        "# Определение индексов столбцов с нулевой дисперсией\n",
        "zero_variance_columns = variances[variances == 0].index\n",
        "\n",
        "# Удаление столбцов с нулевой дисперсией\n",
        "df_filt = df.drop(columns=zero_variance_columns)"
      ]
    },
    {
      "cell_type": "markdown",
      "metadata": {
        "id": "vFdDL_eELekl"
      },
      "source": [
        "А теперь у нас 144 признаков"
      ]
    },
    {
      "cell_type": "code",
      "execution_count": 32,
      "metadata": {
        "colab": {
          "base_uri": "https://localhost:8080/",
          "height": 444
        },
        "id": "ktfen5yoJKRK",
        "outputId": "b0921a45-2473-4d2a-ff4e-b1638747e4e6"
      },
      "outputs": [
        {
          "data": {
            "application/vnd.google.colaboratory.intrinsic+json": {
              "type": "dataframe",
              "variable_name": "df_filt"
            },
            "text/html": [
              "\n",
              "  <div id=\"df-606de4a9-34fd-4882-9ec9-a25f64a6713c\" class=\"colab-df-container\">\n",
              "    <div>\n",
              "<style scoped>\n",
              "    .dataframe tbody tr th:only-of-type {\n",
              "        vertical-align: middle;\n",
              "    }\n",
              "\n",
              "    .dataframe tbody tr th {\n",
              "        vertical-align: top;\n",
              "    }\n",
              "\n",
              "    .dataframe thead th {\n",
              "        text-align: right;\n",
              "    }\n",
              "</style>\n",
              "<table border=\"1\" class=\"dataframe\">\n",
              "  <thead>\n",
              "    <tr style=\"text-align: right;\">\n",
              "      <th></th>\n",
              "      <th>smiles</th>\n",
              "      <th>A</th>\n",
              "      <th>B</th>\n",
              "      <th>mu</th>\n",
              "      <th>alpha</th>\n",
              "      <th>gap</th>\n",
              "      <th>r2</th>\n",
              "      <th>u0</th>\n",
              "      <th>lipinskiHBA</th>\n",
              "      <th>lipinskiHBD</th>\n",
              "      <th>...</th>\n",
              "      <th>n7aRing</th>\n",
              "      <th>n9aRing</th>\n",
              "      <th>n5FRing</th>\n",
              "      <th>n6FRing</th>\n",
              "      <th>n7FRing</th>\n",
              "      <th>n8FRing</th>\n",
              "      <th>n9FaRing</th>\n",
              "      <th>GGI4</th>\n",
              "      <th>GGI5</th>\n",
              "      <th>TopoShapeIndex</th>\n",
              "    </tr>\n",
              "  </thead>\n",
              "  <tbody>\n",
              "    <tr>\n",
              "      <th>0</th>\n",
              "      <td>O=CC1CCC2OC2C1</td>\n",
              "      <td>3.61423</td>\n",
              "      <td>1.09149</td>\n",
              "      <td>2.0905</td>\n",
              "      <td>75.54</td>\n",
              "      <td>0.2258</td>\n",
              "      <td>1253.8737</td>\n",
              "      <td>-423.035656</td>\n",
              "      <td>2.0</td>\n",
              "      <td>0.0</td>\n",
              "      <td>...</td>\n",
              "      <td>0</td>\n",
              "      <td>0</td>\n",
              "      <td>0</td>\n",
              "      <td>0</td>\n",
              "      <td>1</td>\n",
              "      <td>0</td>\n",
              "      <td>0</td>\n",
              "      <td>0.276111</td>\n",
              "      <td>0.142500</td>\n",
              "      <td>0.666667</td>\n",
              "    </tr>\n",
              "    <tr>\n",
              "      <th>1</th>\n",
              "      <td>COC12CC=C3CC1C23</td>\n",
              "      <td>3.33497</td>\n",
              "      <td>1.50547</td>\n",
              "      <td>1.5224</td>\n",
              "      <td>82.20</td>\n",
              "      <td>0.1826</td>\n",
              "      <td>1047.6956</td>\n",
              "      <td>-385.774234</td>\n",
              "      <td>1.0</td>\n",
              "      <td>0.0</td>\n",
              "      <td>...</td>\n",
              "      <td>0</td>\n",
              "      <td>0</td>\n",
              "      <td>0</td>\n",
              "      <td>0</td>\n",
              "      <td>1</td>\n",
              "      <td>0</td>\n",
              "      <td>0</td>\n",
              "      <td>0.250000</td>\n",
              "      <td>0.000000</td>\n",
              "      <td>1.000000</td>\n",
              "    </tr>\n",
              "    <tr>\n",
              "      <th>2</th>\n",
              "      <td>OC1CCC(=O)C1</td>\n",
              "      <td>5.59112</td>\n",
              "      <td>1.96604</td>\n",
              "      <td>2.2377</td>\n",
              "      <td>56.85</td>\n",
              "      <td>0.2209</td>\n",
              "      <td>771.3820</td>\n",
              "      <td>-345.686487</td>\n",
              "      <td>2.0</td>\n",
              "      <td>1.0</td>\n",
              "      <td>...</td>\n",
              "      <td>0</td>\n",
              "      <td>0</td>\n",
              "      <td>0</td>\n",
              "      <td>0</td>\n",
              "      <td>0</td>\n",
              "      <td>0</td>\n",
              "      <td>0</td>\n",
              "      <td>0.000000</td>\n",
              "      <td>0.000000</td>\n",
              "      <td>1.000000</td>\n",
              "    </tr>\n",
              "    <tr>\n",
              "      <th>3</th>\n",
              "      <td>N#CC12NC3CNC1C23</td>\n",
              "      <td>4.19762</td>\n",
              "      <td>1.34307</td>\n",
              "      <td>5.2940</td>\n",
              "      <td>74.13</td>\n",
              "      <td>0.2368</td>\n",
              "      <td>1017.8124</td>\n",
              "      <td>-396.880645</td>\n",
              "      <td>3.0</td>\n",
              "      <td>2.0</td>\n",
              "      <td>...</td>\n",
              "      <td>0</td>\n",
              "      <td>0</td>\n",
              "      <td>0</td>\n",
              "      <td>0</td>\n",
              "      <td>1</td>\n",
              "      <td>0</td>\n",
              "      <td>0</td>\n",
              "      <td>0.262222</td>\n",
              "      <td>0.062500</td>\n",
              "      <td>0.666667</td>\n",
              "    </tr>\n",
              "    <tr>\n",
              "      <th>4</th>\n",
              "      <td>CC(=NO)CC(C)(C)C</td>\n",
              "      <td>2.79330</td>\n",
              "      <td>0.93080</td>\n",
              "      <td>0.5406</td>\n",
              "      <td>88.74</td>\n",
              "      <td>0.2507</td>\n",
              "      <td>1518.5343</td>\n",
              "      <td>-405.527293</td>\n",
              "      <td>2.0</td>\n",
              "      <td>1.0</td>\n",
              "      <td>...</td>\n",
              "      <td>0</td>\n",
              "      <td>0</td>\n",
              "      <td>0</td>\n",
              "      <td>0</td>\n",
              "      <td>0</td>\n",
              "      <td>0</td>\n",
              "      <td>0</td>\n",
              "      <td>0.240000</td>\n",
              "      <td>0.000000</td>\n",
              "      <td>0.666667</td>\n",
              "    </tr>\n",
              "    <tr>\n",
              "      <th>...</th>\n",
              "      <td>...</td>\n",
              "      <td>...</td>\n",
              "      <td>...</td>\n",
              "      <td>...</td>\n",
              "      <td>...</td>\n",
              "      <td>...</td>\n",
              "      <td>...</td>\n",
              "      <td>...</td>\n",
              "      <td>...</td>\n",
              "      <td>...</td>\n",
              "      <td>...</td>\n",
              "      <td>...</td>\n",
              "      <td>...</td>\n",
              "      <td>...</td>\n",
              "      <td>...</td>\n",
              "      <td>...</td>\n",
              "      <td>...</td>\n",
              "      <td>...</td>\n",
              "      <td>...</td>\n",
              "      <td>...</td>\n",
              "      <td>...</td>\n",
              "    </tr>\n",
              "    <tr>\n",
              "      <th>19995</th>\n",
              "      <td>C1OC23CCN=C2NC13</td>\n",
              "      <td>3.34284</td>\n",
              "      <td>1.73396</td>\n",
              "      <td>3.1256</td>\n",
              "      <td>73.93</td>\n",
              "      <td>0.2382</td>\n",
              "      <td>958.9895</td>\n",
              "      <td>-417.956479</td>\n",
              "      <td>3.0</td>\n",
              "      <td>1.0</td>\n",
              "      <td>...</td>\n",
              "      <td>0</td>\n",
              "      <td>0</td>\n",
              "      <td>0</td>\n",
              "      <td>0</td>\n",
              "      <td>0</td>\n",
              "      <td>0</td>\n",
              "      <td>0</td>\n",
              "      <td>0.097222</td>\n",
              "      <td>0.000000</td>\n",
              "      <td>1.000000</td>\n",
              "    </tr>\n",
              "    <tr>\n",
              "      <th>19996</th>\n",
              "      <td>CC(C#C)C1=CON=C1</td>\n",
              "      <td>3.29901</td>\n",
              "      <td>1.16566</td>\n",
              "      <td>2.9980</td>\n",
              "      <td>75.07</td>\n",
              "      <td>0.2459</td>\n",
              "      <td>1236.5085</td>\n",
              "      <td>-400.708122</td>\n",
              "      <td>2.0</td>\n",
              "      <td>0.0</td>\n",
              "      <td>...</td>\n",
              "      <td>0</td>\n",
              "      <td>0</td>\n",
              "      <td>0</td>\n",
              "      <td>0</td>\n",
              "      <td>0</td>\n",
              "      <td>0</td>\n",
              "      <td>0</td>\n",
              "      <td>0.250000</td>\n",
              "      <td>0.080000</td>\n",
              "      <td>0.666667</td>\n",
              "    </tr>\n",
              "    <tr>\n",
              "      <th>19997</th>\n",
              "      <td>CC(C)(C)C(C#N)C#N</td>\n",
              "      <td>1.79871</td>\n",
              "      <td>1.63214</td>\n",
              "      <td>4.5091</td>\n",
              "      <td>79.46</td>\n",
              "      <td>0.3225</td>\n",
              "      <td>1197.0545</td>\n",
              "      <td>-382.105873</td>\n",
              "      <td>2.0</td>\n",
              "      <td>0.0</td>\n",
              "      <td>...</td>\n",
              "      <td>0</td>\n",
              "      <td>0</td>\n",
              "      <td>0</td>\n",
              "      <td>0</td>\n",
              "      <td>0</td>\n",
              "      <td>0</td>\n",
              "      <td>0</td>\n",
              "      <td>0.000000</td>\n",
              "      <td>0.000000</td>\n",
              "      <td>1.000000</td>\n",
              "    </tr>\n",
              "    <tr>\n",
              "      <th>19998</th>\n",
              "      <td>COC(=O)C1CC(=O)N1</td>\n",
              "      <td>4.65384</td>\n",
              "      <td>0.89755</td>\n",
              "      <td>4.4515</td>\n",
              "      <td>66.65</td>\n",
              "      <td>0.2512</td>\n",
              "      <td>1364.6319</td>\n",
              "      <td>-475.072597</td>\n",
              "      <td>4.0</td>\n",
              "      <td>1.0</td>\n",
              "      <td>...</td>\n",
              "      <td>0</td>\n",
              "      <td>0</td>\n",
              "      <td>0</td>\n",
              "      <td>0</td>\n",
              "      <td>0</td>\n",
              "      <td>0</td>\n",
              "      <td>0</td>\n",
              "      <td>0.422222</td>\n",
              "      <td>0.118056</td>\n",
              "      <td>1.000000</td>\n",
              "    </tr>\n",
              "    <tr>\n",
              "      <th>19999</th>\n",
              "      <td>CCC1OC2CC12C#N</td>\n",
              "      <td>2.81698</td>\n",
              "      <td>1.18586</td>\n",
              "      <td>3.1090</td>\n",
              "      <td>77.79</td>\n",
              "      <td>0.2715</td>\n",
              "      <td>1260.0066</td>\n",
              "      <td>-401.927290</td>\n",
              "      <td>2.0</td>\n",
              "      <td>0.0</td>\n",
              "      <td>...</td>\n",
              "      <td>0</td>\n",
              "      <td>0</td>\n",
              "      <td>1</td>\n",
              "      <td>0</td>\n",
              "      <td>0</td>\n",
              "      <td>0</td>\n",
              "      <td>0</td>\n",
              "      <td>0.427222</td>\n",
              "      <td>0.000000</td>\n",
              "      <td>0.666667</td>\n",
              "    </tr>\n",
              "  </tbody>\n",
              "</table>\n",
              "<p>20000 rows × 144 columns</p>\n",
              "</div>\n",
              "    <div class=\"colab-df-buttons\">\n",
              "\n",
              "  <div class=\"colab-df-container\">\n",
              "    <button class=\"colab-df-convert\" onclick=\"convertToInteractive('df-606de4a9-34fd-4882-9ec9-a25f64a6713c')\"\n",
              "            title=\"Convert this dataframe to an interactive table.\"\n",
              "            style=\"display:none;\">\n",
              "\n",
              "  <svg xmlns=\"http://www.w3.org/2000/svg\" height=\"24px\" viewBox=\"0 -960 960 960\">\n",
              "    <path d=\"M120-120v-720h720v720H120Zm60-500h600v-160H180v160Zm220 220h160v-160H400v160Zm0 220h160v-160H400v160ZM180-400h160v-160H180v160Zm440 0h160v-160H620v160ZM180-180h160v-160H180v160Zm440 0h160v-160H620v160Z\"/>\n",
              "  </svg>\n",
              "    </button>\n",
              "\n",
              "  <style>\n",
              "    .colab-df-container {\n",
              "      display:flex;\n",
              "      gap: 12px;\n",
              "    }\n",
              "\n",
              "    .colab-df-convert {\n",
              "      background-color: #E8F0FE;\n",
              "      border: none;\n",
              "      border-radius: 50%;\n",
              "      cursor: pointer;\n",
              "      display: none;\n",
              "      fill: #1967D2;\n",
              "      height: 32px;\n",
              "      padding: 0 0 0 0;\n",
              "      width: 32px;\n",
              "    }\n",
              "\n",
              "    .colab-df-convert:hover {\n",
              "      background-color: #E2EBFA;\n",
              "      box-shadow: 0px 1px 2px rgba(60, 64, 67, 0.3), 0px 1px 3px 1px rgba(60, 64, 67, 0.15);\n",
              "      fill: #174EA6;\n",
              "    }\n",
              "\n",
              "    .colab-df-buttons div {\n",
              "      margin-bottom: 4px;\n",
              "    }\n",
              "\n",
              "    [theme=dark] .colab-df-convert {\n",
              "      background-color: #3B4455;\n",
              "      fill: #D2E3FC;\n",
              "    }\n",
              "\n",
              "    [theme=dark] .colab-df-convert:hover {\n",
              "      background-color: #434B5C;\n",
              "      box-shadow: 0px 1px 3px 1px rgba(0, 0, 0, 0.15);\n",
              "      filter: drop-shadow(0px 1px 2px rgba(0, 0, 0, 0.3));\n",
              "      fill: #FFFFFF;\n",
              "    }\n",
              "  </style>\n",
              "\n",
              "    <script>\n",
              "      const buttonEl =\n",
              "        document.querySelector('#df-606de4a9-34fd-4882-9ec9-a25f64a6713c button.colab-df-convert');\n",
              "      buttonEl.style.display =\n",
              "        google.colab.kernel.accessAllowed ? 'block' : 'none';\n",
              "\n",
              "      async function convertToInteractive(key) {\n",
              "        const element = document.querySelector('#df-606de4a9-34fd-4882-9ec9-a25f64a6713c');\n",
              "        const dataTable =\n",
              "          await google.colab.kernel.invokeFunction('convertToInteractive',\n",
              "                                                    [key], {});\n",
              "        if (!dataTable) return;\n",
              "\n",
              "        const docLinkHtml = 'Like what you see? Visit the ' +\n",
              "          '<a target=\"_blank\" href=https://colab.research.google.com/notebooks/data_table.ipynb>data table notebook</a>'\n",
              "          + ' to learn more about interactive tables.';\n",
              "        element.innerHTML = '';\n",
              "        dataTable['output_type'] = 'display_data';\n",
              "        await google.colab.output.renderOutput(dataTable, element);\n",
              "        const docLink = document.createElement('div');\n",
              "        docLink.innerHTML = docLinkHtml;\n",
              "        element.appendChild(docLink);\n",
              "      }\n",
              "    </script>\n",
              "  </div>\n",
              "\n",
              "\n",
              "<div id=\"df-34fd487d-143d-4c29-b801-d86307b1621c\">\n",
              "  <button class=\"colab-df-quickchart\" onclick=\"quickchart('df-34fd487d-143d-4c29-b801-d86307b1621c')\"\n",
              "            title=\"Suggest charts\"\n",
              "            style=\"display:none;\">\n",
              "\n",
              "<svg xmlns=\"http://www.w3.org/2000/svg\" height=\"24px\"viewBox=\"0 0 24 24\"\n",
              "     width=\"24px\">\n",
              "    <g>\n",
              "        <path d=\"M19 3H5c-1.1 0-2 .9-2 2v14c0 1.1.9 2 2 2h14c1.1 0 2-.9 2-2V5c0-1.1-.9-2-2-2zM9 17H7v-7h2v7zm4 0h-2V7h2v10zm4 0h-2v-4h2v4z\"/>\n",
              "    </g>\n",
              "</svg>\n",
              "  </button>\n",
              "\n",
              "<style>\n",
              "  .colab-df-quickchart {\n",
              "      --bg-color: #E8F0FE;\n",
              "      --fill-color: #1967D2;\n",
              "      --hover-bg-color: #E2EBFA;\n",
              "      --hover-fill-color: #174EA6;\n",
              "      --disabled-fill-color: #AAA;\n",
              "      --disabled-bg-color: #DDD;\n",
              "  }\n",
              "\n",
              "  [theme=dark] .colab-df-quickchart {\n",
              "      --bg-color: #3B4455;\n",
              "      --fill-color: #D2E3FC;\n",
              "      --hover-bg-color: #434B5C;\n",
              "      --hover-fill-color: #FFFFFF;\n",
              "      --disabled-bg-color: #3B4455;\n",
              "      --disabled-fill-color: #666;\n",
              "  }\n",
              "\n",
              "  .colab-df-quickchart {\n",
              "    background-color: var(--bg-color);\n",
              "    border: none;\n",
              "    border-radius: 50%;\n",
              "    cursor: pointer;\n",
              "    display: none;\n",
              "    fill: var(--fill-color);\n",
              "    height: 32px;\n",
              "    padding: 0;\n",
              "    width: 32px;\n",
              "  }\n",
              "\n",
              "  .colab-df-quickchart:hover {\n",
              "    background-color: var(--hover-bg-color);\n",
              "    box-shadow: 0 1px 2px rgba(60, 64, 67, 0.3), 0 1px 3px 1px rgba(60, 64, 67, 0.15);\n",
              "    fill: var(--button-hover-fill-color);\n",
              "  }\n",
              "\n",
              "  .colab-df-quickchart-complete:disabled,\n",
              "  .colab-df-quickchart-complete:disabled:hover {\n",
              "    background-color: var(--disabled-bg-color);\n",
              "    fill: var(--disabled-fill-color);\n",
              "    box-shadow: none;\n",
              "  }\n",
              "\n",
              "  .colab-df-spinner {\n",
              "    border: 2px solid var(--fill-color);\n",
              "    border-color: transparent;\n",
              "    border-bottom-color: var(--fill-color);\n",
              "    animation:\n",
              "      spin 1s steps(1) infinite;\n",
              "  }\n",
              "\n",
              "  @keyframes spin {\n",
              "    0% {\n",
              "      border-color: transparent;\n",
              "      border-bottom-color: var(--fill-color);\n",
              "      border-left-color: var(--fill-color);\n",
              "    }\n",
              "    20% {\n",
              "      border-color: transparent;\n",
              "      border-left-color: var(--fill-color);\n",
              "      border-top-color: var(--fill-color);\n",
              "    }\n",
              "    30% {\n",
              "      border-color: transparent;\n",
              "      border-left-color: var(--fill-color);\n",
              "      border-top-color: var(--fill-color);\n",
              "      border-right-color: var(--fill-color);\n",
              "    }\n",
              "    40% {\n",
              "      border-color: transparent;\n",
              "      border-right-color: var(--fill-color);\n",
              "      border-top-color: var(--fill-color);\n",
              "    }\n",
              "    60% {\n",
              "      border-color: transparent;\n",
              "      border-right-color: var(--fill-color);\n",
              "    }\n",
              "    80% {\n",
              "      border-color: transparent;\n",
              "      border-right-color: var(--fill-color);\n",
              "      border-bottom-color: var(--fill-color);\n",
              "    }\n",
              "    90% {\n",
              "      border-color: transparent;\n",
              "      border-bottom-color: var(--fill-color);\n",
              "    }\n",
              "  }\n",
              "</style>\n",
              "\n",
              "  <script>\n",
              "    async function quickchart(key) {\n",
              "      const quickchartButtonEl =\n",
              "        document.querySelector('#' + key + ' button');\n",
              "      quickchartButtonEl.disabled = true;  // To prevent multiple clicks.\n",
              "      quickchartButtonEl.classList.add('colab-df-spinner');\n",
              "      try {\n",
              "        const charts = await google.colab.kernel.invokeFunction(\n",
              "            'suggestCharts', [key], {});\n",
              "      } catch (error) {\n",
              "        console.error('Error during call to suggestCharts:', error);\n",
              "      }\n",
              "      quickchartButtonEl.classList.remove('colab-df-spinner');\n",
              "      quickchartButtonEl.classList.add('colab-df-quickchart-complete');\n",
              "    }\n",
              "    (() => {\n",
              "      let quickchartButtonEl =\n",
              "        document.querySelector('#df-34fd487d-143d-4c29-b801-d86307b1621c button');\n",
              "      quickchartButtonEl.style.display =\n",
              "        google.colab.kernel.accessAllowed ? 'block' : 'none';\n",
              "    })();\n",
              "  </script>\n",
              "</div>\n",
              "    </div>\n",
              "  </div>\n"
            ],
            "text/plain": [
              "                  smiles        A        B      mu  alpha     gap         r2  \\\n",
              "0         O=CC1CCC2OC2C1  3.61423  1.09149  2.0905  75.54  0.2258  1253.8737   \n",
              "1       COC12CC=C3CC1C23  3.33497  1.50547  1.5224  82.20  0.1826  1047.6956   \n",
              "2           OC1CCC(=O)C1  5.59112  1.96604  2.2377  56.85  0.2209   771.3820   \n",
              "3       N#CC12NC3CNC1C23  4.19762  1.34307  5.2940  74.13  0.2368  1017.8124   \n",
              "4       CC(=NO)CC(C)(C)C  2.79330  0.93080  0.5406  88.74  0.2507  1518.5343   \n",
              "...                  ...      ...      ...     ...    ...     ...        ...   \n",
              "19995   C1OC23CCN=C2NC13  3.34284  1.73396  3.1256  73.93  0.2382   958.9895   \n",
              "19996   CC(C#C)C1=CON=C1  3.29901  1.16566  2.9980  75.07  0.2459  1236.5085   \n",
              "19997  CC(C)(C)C(C#N)C#N  1.79871  1.63214  4.5091  79.46  0.3225  1197.0545   \n",
              "19998  COC(=O)C1CC(=O)N1  4.65384  0.89755  4.4515  66.65  0.2512  1364.6319   \n",
              "19999     CCC1OC2CC12C#N  2.81698  1.18586  3.1090  77.79  0.2715  1260.0066   \n",
              "\n",
              "               u0  lipinskiHBA  lipinskiHBD  ...  n7aRing  n9aRing  n5FRing  \\\n",
              "0     -423.035656          2.0          0.0  ...        0        0        0   \n",
              "1     -385.774234          1.0          0.0  ...        0        0        0   \n",
              "2     -345.686487          2.0          1.0  ...        0        0        0   \n",
              "3     -396.880645          3.0          2.0  ...        0        0        0   \n",
              "4     -405.527293          2.0          1.0  ...        0        0        0   \n",
              "...           ...          ...          ...  ...      ...      ...      ...   \n",
              "19995 -417.956479          3.0          1.0  ...        0        0        0   \n",
              "19996 -400.708122          2.0          0.0  ...        0        0        0   \n",
              "19997 -382.105873          2.0          0.0  ...        0        0        0   \n",
              "19998 -475.072597          4.0          1.0  ...        0        0        0   \n",
              "19999 -401.927290          2.0          0.0  ...        0        0        1   \n",
              "\n",
              "       n6FRing  n7FRing  n8FRing  n9FaRing      GGI4      GGI5  TopoShapeIndex  \n",
              "0            0        1        0         0  0.276111  0.142500        0.666667  \n",
              "1            0        1        0         0  0.250000  0.000000        1.000000  \n",
              "2            0        0        0         0  0.000000  0.000000        1.000000  \n",
              "3            0        1        0         0  0.262222  0.062500        0.666667  \n",
              "4            0        0        0         0  0.240000  0.000000        0.666667  \n",
              "...        ...      ...      ...       ...       ...       ...             ...  \n",
              "19995        0        0        0         0  0.097222  0.000000        1.000000  \n",
              "19996        0        0        0         0  0.250000  0.080000        0.666667  \n",
              "19997        0        0        0         0  0.000000  0.000000        1.000000  \n",
              "19998        0        0        0         0  0.422222  0.118056        1.000000  \n",
              "19999        0        0        0         0  0.427222  0.000000        0.666667  \n",
              "\n",
              "[20000 rows x 144 columns]"
            ]
          },
          "execution_count": 32,
          "metadata": {},
          "output_type": "execute_result"
        }
      ],
      "source": [
        "df_filt"
      ]
    },
    {
      "cell_type": "code",
      "execution_count": 38,
      "metadata": {
        "id": "eRFEQzkTqiGB"
      },
      "outputs": [],
      "source": [
        "df_filt.to_csv('data_filt_all.csv', encoding='utf-8')"
      ]
    },
    {
      "cell_type": "code",
      "execution_count": 33,
      "metadata": {
        "id": "e_8M7X2dKlDx"
      },
      "outputs": [],
      "source": [
        "#файл слишком большой и колаб его не грузит\n",
        "#поэтому я разделю его на части и заргужу\n",
        "num_parts = 5\n",
        "total_rows = len(df_filt)\n",
        "chunk_size = total_rows // num_parts\n",
        "\n",
        "for i in range(num_parts):\n",
        "    start_idx = i * chunk_size\n",
        "    end_idx = start_idx + chunk_size\n",
        "    if i == num_parts - 1:  # for the last chunk, include remaining rows\n",
        "        end_idx = total_rows\n",
        "    df_part = df_filt.iloc[start_idx:end_idx]\n",
        "    df_part.to_csv(f'data_filt2_{i+1}.csv', encoding='utf-8', index=False)"
      ]
    }
  ],
  "metadata": {
    "colab": {
      "provenance": []
    },
    "kernelspec": {
      "display_name": "Python 3",
      "name": "python3"
    },
    "language_info": {
      "name": "python"
    }
  },
  "nbformat": 4,
  "nbformat_minor": 0
}
