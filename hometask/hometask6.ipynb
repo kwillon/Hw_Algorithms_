{
  "nbformat": 4,
  "nbformat_minor": 0,
  "metadata": {
    "colab": {
      "provenance": []
    },
    "kernelspec": {
      "name": "python3",
      "display_name": "Python 3"
    },
    "language_info": {
      "name": "python"
    }
  },
  "cells": [
    {
      "cell_type": "markdown",
      "source": [
        "# **Regression**\n",
        "regression tree-based model"
      ],
      "metadata": {
        "id": "NXVUh-YnP2wP"
      }
    },
    {
      "cell_type": "code",
      "execution_count": 1,
      "metadata": {
        "id": "i3KQGN1NOYq2"
      },
      "outputs": [],
      "source": [
        "import numpy as np\n",
        "import pandas as pd"
      ]
    },
    {
      "cell_type": "code",
      "source": [
        "from sklearn.tree import DecisionTreeRegressor\n",
        "from sklearn.model_selection import train_test_split\n",
        "from sklearn.metrics import mean_squared_error\n",
        "from sklearn.metrics import r2_score, precision_score, recall_score, confusion_matrix"
      ],
      "metadata": {
        "id": "Kru3xo4FT2zq"
      },
      "execution_count": 14,
      "outputs": []
    },
    {
      "cell_type": "code",
      "source": [
        "df = pd.read_csv('/content/df_CPs.csv')"
      ],
      "metadata": {
        "id": "S9pQp6ECQf_S"
      },
      "execution_count": 2,
      "outputs": []
    },
    {
      "cell_type": "code",
      "source": [
        "df.info()"
      ],
      "metadata": {
        "colab": {
          "base_uri": "https://localhost:8080/"
        },
        "id": "O_juhTUzRLsl",
        "outputId": "99525813-72ee-4add-d95a-97409adb2d27"
      },
      "execution_count": 3,
      "outputs": [
        {
          "output_type": "stream",
          "name": "stdout",
          "text": [
            "<class 'pandas.core.frame.DataFrame'>\n",
            "RangeIndex: 19981 entries, 0 to 19980\n",
            "Data columns (total 62 columns):\n",
            " #   Column      Non-Null Count  Dtype  \n",
            "---  ------      --------------  -----  \n",
            " 0   Unnamed: 0  19981 non-null  int64  \n",
            " 1   PC1         19981 non-null  float64\n",
            " 2   PC2         19981 non-null  float64\n",
            " 3   PC3         19981 non-null  float64\n",
            " 4   PC4         19981 non-null  float64\n",
            " 5   PC5         19981 non-null  float64\n",
            " 6   PC6         19981 non-null  float64\n",
            " 7   PC7         19981 non-null  float64\n",
            " 8   PC8         19981 non-null  float64\n",
            " 9   PC9         19981 non-null  float64\n",
            " 10  PC10        19981 non-null  float64\n",
            " 11  PC11        19981 non-null  float64\n",
            " 12  PC12        19981 non-null  float64\n",
            " 13  PC13        19981 non-null  float64\n",
            " 14  PC14        19981 non-null  float64\n",
            " 15  PC15        19981 non-null  float64\n",
            " 16  PC16        19981 non-null  float64\n",
            " 17  PC17        19981 non-null  float64\n",
            " 18  PC18        19981 non-null  float64\n",
            " 19  PC19        19981 non-null  float64\n",
            " 20  PC20        19981 non-null  float64\n",
            " 21  PC21        19981 non-null  float64\n",
            " 22  PC22        19981 non-null  float64\n",
            " 23  PC23        19981 non-null  float64\n",
            " 24  PC24        19981 non-null  float64\n",
            " 25  PC25        19981 non-null  float64\n",
            " 26  PC26        19981 non-null  float64\n",
            " 27  PC27        19981 non-null  float64\n",
            " 28  PC28        19981 non-null  float64\n",
            " 29  PC29        19981 non-null  float64\n",
            " 30  PC30        19981 non-null  float64\n",
            " 31  PC31        19981 non-null  float64\n",
            " 32  PC32        19981 non-null  float64\n",
            " 33  PC33        19981 non-null  float64\n",
            " 34  PC34        19981 non-null  float64\n",
            " 35  PC35        19981 non-null  float64\n",
            " 36  PC36        19981 non-null  float64\n",
            " 37  PC37        19981 non-null  float64\n",
            " 38  PC38        19981 non-null  float64\n",
            " 39  PC39        19981 non-null  float64\n",
            " 40  PC40        19981 non-null  float64\n",
            " 41  PC41        19981 non-null  float64\n",
            " 42  PC42        19981 non-null  float64\n",
            " 43  PC43        19981 non-null  float64\n",
            " 44  PC44        19981 non-null  float64\n",
            " 45  PC45        19981 non-null  float64\n",
            " 46  PC46        19981 non-null  float64\n",
            " 47  PC47        19981 non-null  float64\n",
            " 48  PC48        19981 non-null  float64\n",
            " 49  PC49        19981 non-null  float64\n",
            " 50  PC50        19981 non-null  float64\n",
            " 51  PC51        19981 non-null  float64\n",
            " 52  PC52        19981 non-null  float64\n",
            " 53  PC53        19981 non-null  float64\n",
            " 54  PC54        19981 non-null  float64\n",
            " 55  PC55        19981 non-null  float64\n",
            " 56  PC56        19981 non-null  float64\n",
            " 57  PC57        19981 non-null  float64\n",
            " 58  PC58        19981 non-null  float64\n",
            " 59  PC59        19981 non-null  float64\n",
            " 60  smiles      19964 non-null  object \n",
            " 61  gap         19964 non-null  float64\n",
            "dtypes: float64(60), int64(1), object(1)\n",
            "memory usage: 9.5+ MB\n"
          ]
        }
      ]
    },
    {
      "cell_type": "code",
      "source": [
        "df = df.drop(columns=['smiles'])"
      ],
      "metadata": {
        "id": "1EOhIYGaU9Qc"
      },
      "execution_count": 19,
      "outputs": []
    },
    {
      "cell_type": "code",
      "source": [
        "X = df.iloc[:, :60]  # Features\n",
        "y = df['gap']  # целевая переменная"
      ],
      "metadata": {
        "id": "2vdwyU-5T4mp"
      },
      "execution_count": 20,
      "outputs": []
    },
    {
      "cell_type": "code",
      "source": [
        "X_train, X_test, y_train, y_test = train_test_split(X, y, test_size=0.2, random_state=1984)"
      ],
      "metadata": {
        "id": "ts4qG6paT-qW"
      },
      "execution_count": 21,
      "outputs": []
    },
    {
      "cell_type": "code",
      "source": [
        "regressor = DecisionTreeRegressor(random_state=1984)\n",
        "regressor.fit(X_train, y_train)\n",
        "y_pred = regressor.predict(X_test)\n",
        "mse = mean_squared_error(y_test, y_pred)\n",
        "print(\"Mean Squared Error:\", mse)"
      ],
      "metadata": {
        "colab": {
          "base_uri": "https://localhost:8080/"
        },
        "id": "vIwF4Jn2UBnG",
        "outputId": "9c30f92d-87ad-4e7c-f545-9e542a365de3"
      },
      "execution_count": 22,
      "outputs": [
        {
          "output_type": "stream",
          "name": "stdout",
          "text": [
            "Mean Squared Error: 0.004350603398447283\n"
          ]
        }
      ]
    }
  ]
}